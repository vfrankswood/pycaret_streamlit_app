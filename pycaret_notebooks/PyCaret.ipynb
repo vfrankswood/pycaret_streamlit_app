{
 "cells": [
  {
   "cell_type": "markdown",
   "id": "abf74ae9",
   "metadata": {},
   "source": [
    "## PyCaret \n",
    "PyCaret is an open source, low-code machine learning library in Python that allows you to go from preparing your data to deploying your model within minutes in your choice of notebook environment."
   ]
  },
  {
   "cell_type": "markdown",
   "id": "5b99a457",
   "metadata": {},
   "source": [
    "When importing a `pycaret.regression`, you may encounter models import errors. To fix this, manually install the package with `conda install`"
   ]
  },
  {
   "cell_type": "code",
   "execution_count": 20,
   "id": "972a4b38",
   "metadata": {
    "scrolled": false
   },
   "outputs": [],
   "source": [
    "import pandas as pd\n",
    "import numpy as np\n",
    "from pycaret.regression import *\n",
    "import shap"
   ]
  },
  {
   "cell_type": "code",
   "execution_count": 21,
   "id": "dc93d261",
   "metadata": {},
   "outputs": [],
   "source": [
    "# loading data in RAM-saving manner\n",
    "data_types = {\"event_name_1\":\"object\", \"event_type_1\":\"object\", \n",
    "              \"demand\":\"int16\", \"wm_yr_wk\":\"int16\", \"wday\":\"int8\", \n",
    "              \"month\":\"int8\",\"year\":\"int16\", \"snap_CA\":\"int8\", \"snap_TX\":\"int8\", \"snap_WI\":\"int8\", \n",
    "              \"sell_price\": \"float32\"}\n",
    "\n",
    "columns = ['item_id', 'dept_id', 'cat_id', 'store_id', 'state_id', 'demand', 'date', 'wm_yr_wk',\n",
    "           'wday','month', 'year', 'event_name_1', 'event_type_1', 'snap_CA', 'snap_TX', 'snap_WI', \n",
    "           'sell_price']\n",
    "\n",
    "sales = pd.read_csv(\"sales.gzip\", compression=\"gzip\", dtype=data_types, parse_dates=[\"date\"], usecols=columns)"
   ]
  },
  {
   "cell_type": "code",
   "execution_count": 22,
   "id": "0d309a94",
   "metadata": {},
   "outputs": [],
   "source": [
    "# initial preprocessing\n",
    "sales = sales[(sales[\"date\"] > \"2015-01-01\") & (sales[\"date\"] < \"2015-02-01\")]\n",
    "sales.replace({\"event_name_1\": np.nan, \"event_type_1\": np.nan}, \"no_event\", inplace=True)\n",
    "sales[\"sell_price\"].replace(np.nan, 0, inplace=True)\n",
    "\n",
    "# sorting dataset by date and droping the date column\n",
    "sales.sort_values(\"date\", ascending=True, inplace=True)\n",
    "\n",
    "numeric = ['wm_yr_wk', 'wday','month', 'year', 'snap_CA', 'snap_TX', 'snap_WI', 'sell_price']"
   ]
  },
  {
   "cell_type": "markdown",
   "id": "b6fa7a3f",
   "metadata": {},
   "source": [
    "# 1. Setup"
   ]
  },
  {
   "cell_type": "markdown",
   "id": "6fbc992e",
   "metadata": {},
   "source": [
    "The first step while working with PyCaret is setting up the environment. The parameters of the function below are settings to be used during further work inside the environment unless other settings are specified in relevant functions.\n",
    "\n",
    "Here is a brief explanation of paramaters used in the `setup()` function below:\n",
    "\n",
    "`data` - full dataset (required parameter); <br>\n",
    "`target` - name of the target column (required parameter); <br>\n",
    "`session_id` - equivalent to ‘random_state’ in scikit-learn (optional); <br>\n",
    "`log_experiment` - whether to log the parameters and metrics to ML flow server (optional); <br>\n",
    "`experiment_name` - just a name of experiment for ML flow server (optional); <br>\n",
    "`normalize` - whether to normalize numeric features (we can also set the method of norm) (optional); <br>\n",
    "`fold` - number of folds to be used in cross validation; <br>\n",
    "`numeric features` - list of features which pycaret should consider numeric. By defalut, pycaret can distinguish numeric, categorical and ordinal features. But we can help by setting parameters like this (optional); <br>\n",
    "`ordinal features` - list of features which pycaret should consider ordinal (optional); <br>\n",
    "`data_split_shuffle` - prevents or allows rows shuffeling for train test split (optional); <br>\n",
    "`fold_strategy` - choice of cross val. strategy.\n",
    "\n",
    "Please notice, that we specified `item_id` as ordinal feature, although it is not. The fact is that, by default this feature will be treated by PyCaret as categorical. Thus, to preprocess this column PyCaret will use OneHotEncoding. We want to prevent this and use LabelEncoding instead. That's why we say PyCaret to treat this feature as ordinal one.\n",
    "\n",
    "Also, we set `data_split_shuffle=False`. Since we deal with timeseries data we should make sure to perform the train test split in a right way."
   ]
  },
  {
   "cell_type": "code",
   "execution_count": 23,
   "id": "2f3115a7",
   "metadata": {},
   "outputs": [
    {
     "data": {
      "text/html": [
       "<style  type=\"text/css\" >\n",
       "#T_5113c_row6_col1,#T_5113c_row17_col1,#T_5113c_row27_col1,#T_5113c_row42_col1{\n",
       "            background-color:  lightgreen;\n",
       "        }</style><table id=\"T_5113c_\" ><thead>    <tr>        <th class=\"blank level0\" ></th>        <th class=\"col_heading level0 col0\" >Description</th>        <th class=\"col_heading level0 col1\" >Value</th>    </tr></thead><tbody>\n",
       "                <tr>\n",
       "                        <th id=\"T_5113c_level0_row0\" class=\"row_heading level0 row0\" >0</th>\n",
       "                        <td id=\"T_5113c_row0_col0\" class=\"data row0 col0\" >session_id</td>\n",
       "                        <td id=\"T_5113c_row0_col1\" class=\"data row0 col1\" >123</td>\n",
       "            </tr>\n",
       "            <tr>\n",
       "                        <th id=\"T_5113c_level0_row1\" class=\"row_heading level0 row1\" >1</th>\n",
       "                        <td id=\"T_5113c_row1_col0\" class=\"data row1 col0\" >Target</td>\n",
       "                        <td id=\"T_5113c_row1_col1\" class=\"data row1 col1\" >demand</td>\n",
       "            </tr>\n",
       "            <tr>\n",
       "                        <th id=\"T_5113c_level0_row2\" class=\"row_heading level0 row2\" >2</th>\n",
       "                        <td id=\"T_5113c_row2_col0\" class=\"data row2 col0\" >Original Data</td>\n",
       "                        <td id=\"T_5113c_row2_col1\" class=\"data row2 col1\" >(914700, 17)</td>\n",
       "            </tr>\n",
       "            <tr>\n",
       "                        <th id=\"T_5113c_level0_row3\" class=\"row_heading level0 row3\" >3</th>\n",
       "                        <td id=\"T_5113c_row3_col0\" class=\"data row3 col0\" >Missing Values</td>\n",
       "                        <td id=\"T_5113c_row3_col1\" class=\"data row3 col1\" >False</td>\n",
       "            </tr>\n",
       "            <tr>\n",
       "                        <th id=\"T_5113c_level0_row4\" class=\"row_heading level0 row4\" >4</th>\n",
       "                        <td id=\"T_5113c_row4_col0\" class=\"data row4 col0\" >Numeric Features</td>\n",
       "                        <td id=\"T_5113c_row4_col1\" class=\"data row4 col1\" >8</td>\n",
       "            </tr>\n",
       "            <tr>\n",
       "                        <th id=\"T_5113c_level0_row5\" class=\"row_heading level0 row5\" >5</th>\n",
       "                        <td id=\"T_5113c_row5_col0\" class=\"data row5 col0\" >Categorical Features</td>\n",
       "                        <td id=\"T_5113c_row5_col1\" class=\"data row5 col1\" >7</td>\n",
       "            </tr>\n",
       "            <tr>\n",
       "                        <th id=\"T_5113c_level0_row6\" class=\"row_heading level0 row6\" >6</th>\n",
       "                        <td id=\"T_5113c_row6_col0\" class=\"data row6 col0\" >Ordinal Features</td>\n",
       "                        <td id=\"T_5113c_row6_col1\" class=\"data row6 col1\" >True</td>\n",
       "            </tr>\n",
       "            <tr>\n",
       "                        <th id=\"T_5113c_level0_row7\" class=\"row_heading level0 row7\" >7</th>\n",
       "                        <td id=\"T_5113c_row7_col0\" class=\"data row7 col0\" >High Cardinality Features</td>\n",
       "                        <td id=\"T_5113c_row7_col1\" class=\"data row7 col1\" >False</td>\n",
       "            </tr>\n",
       "            <tr>\n",
       "                        <th id=\"T_5113c_level0_row8\" class=\"row_heading level0 row8\" >8</th>\n",
       "                        <td id=\"T_5113c_row8_col0\" class=\"data row8 col0\" >High Cardinality Method</td>\n",
       "                        <td id=\"T_5113c_row8_col1\" class=\"data row8 col1\" >None</td>\n",
       "            </tr>\n",
       "            <tr>\n",
       "                        <th id=\"T_5113c_level0_row9\" class=\"row_heading level0 row9\" >9</th>\n",
       "                        <td id=\"T_5113c_row9_col0\" class=\"data row9 col0\" >Transformed Train Set</td>\n",
       "                        <td id=\"T_5113c_row9_col1\" class=\"data row9 col1\" >(640289, 45)</td>\n",
       "            </tr>\n",
       "            <tr>\n",
       "                        <th id=\"T_5113c_level0_row10\" class=\"row_heading level0 row10\" >10</th>\n",
       "                        <td id=\"T_5113c_row10_col0\" class=\"data row10 col0\" >Transformed Test Set</td>\n",
       "                        <td id=\"T_5113c_row10_col1\" class=\"data row10 col1\" >(274411, 45)</td>\n",
       "            </tr>\n",
       "            <tr>\n",
       "                        <th id=\"T_5113c_level0_row11\" class=\"row_heading level0 row11\" >11</th>\n",
       "                        <td id=\"T_5113c_row11_col0\" class=\"data row11 col0\" >Shuffle Train-Test</td>\n",
       "                        <td id=\"T_5113c_row11_col1\" class=\"data row11 col1\" >False</td>\n",
       "            </tr>\n",
       "            <tr>\n",
       "                        <th id=\"T_5113c_level0_row12\" class=\"row_heading level0 row12\" >12</th>\n",
       "                        <td id=\"T_5113c_row12_col0\" class=\"data row12 col0\" >Stratify Train-Test</td>\n",
       "                        <td id=\"T_5113c_row12_col1\" class=\"data row12 col1\" >False</td>\n",
       "            </tr>\n",
       "            <tr>\n",
       "                        <th id=\"T_5113c_level0_row13\" class=\"row_heading level0 row13\" >13</th>\n",
       "                        <td id=\"T_5113c_row13_col0\" class=\"data row13 col0\" >Fold Generator</td>\n",
       "                        <td id=\"T_5113c_row13_col1\" class=\"data row13 col1\" >TimeSeriesSplit</td>\n",
       "            </tr>\n",
       "            <tr>\n",
       "                        <th id=\"T_5113c_level0_row14\" class=\"row_heading level0 row14\" >14</th>\n",
       "                        <td id=\"T_5113c_row14_col0\" class=\"data row14 col0\" >Fold Number</td>\n",
       "                        <td id=\"T_5113c_row14_col1\" class=\"data row14 col1\" >3</td>\n",
       "            </tr>\n",
       "            <tr>\n",
       "                        <th id=\"T_5113c_level0_row15\" class=\"row_heading level0 row15\" >15</th>\n",
       "                        <td id=\"T_5113c_row15_col0\" class=\"data row15 col0\" >CPU Jobs</td>\n",
       "                        <td id=\"T_5113c_row15_col1\" class=\"data row15 col1\" >-1</td>\n",
       "            </tr>\n",
       "            <tr>\n",
       "                        <th id=\"T_5113c_level0_row16\" class=\"row_heading level0 row16\" >16</th>\n",
       "                        <td id=\"T_5113c_row16_col0\" class=\"data row16 col0\" >Use GPU</td>\n",
       "                        <td id=\"T_5113c_row16_col1\" class=\"data row16 col1\" >False</td>\n",
       "            </tr>\n",
       "            <tr>\n",
       "                        <th id=\"T_5113c_level0_row17\" class=\"row_heading level0 row17\" >17</th>\n",
       "                        <td id=\"T_5113c_row17_col0\" class=\"data row17 col0\" >Log Experiment</td>\n",
       "                        <td id=\"T_5113c_row17_col1\" class=\"data row17 col1\" >True</td>\n",
       "            </tr>\n",
       "            <tr>\n",
       "                        <th id=\"T_5113c_level0_row18\" class=\"row_heading level0 row18\" >18</th>\n",
       "                        <td id=\"T_5113c_row18_col0\" class=\"data row18 col0\" >Experiment Name</td>\n",
       "                        <td id=\"T_5113c_row18_col1\" class=\"data row18 col1\" >sales_1_exp</td>\n",
       "            </tr>\n",
       "            <tr>\n",
       "                        <th id=\"T_5113c_level0_row19\" class=\"row_heading level0 row19\" >19</th>\n",
       "                        <td id=\"T_5113c_row19_col0\" class=\"data row19 col0\" >USI</td>\n",
       "                        <td id=\"T_5113c_row19_col1\" class=\"data row19 col1\" >ca5a</td>\n",
       "            </tr>\n",
       "            <tr>\n",
       "                        <th id=\"T_5113c_level0_row20\" class=\"row_heading level0 row20\" >20</th>\n",
       "                        <td id=\"T_5113c_row20_col0\" class=\"data row20 col0\" >Imputation Type</td>\n",
       "                        <td id=\"T_5113c_row20_col1\" class=\"data row20 col1\" >simple</td>\n",
       "            </tr>\n",
       "            <tr>\n",
       "                        <th id=\"T_5113c_level0_row21\" class=\"row_heading level0 row21\" >21</th>\n",
       "                        <td id=\"T_5113c_row21_col0\" class=\"data row21 col0\" >Iterative Imputation Iteration</td>\n",
       "                        <td id=\"T_5113c_row21_col1\" class=\"data row21 col1\" >None</td>\n",
       "            </tr>\n",
       "            <tr>\n",
       "                        <th id=\"T_5113c_level0_row22\" class=\"row_heading level0 row22\" >22</th>\n",
       "                        <td id=\"T_5113c_row22_col0\" class=\"data row22 col0\" >Numeric Imputer</td>\n",
       "                        <td id=\"T_5113c_row22_col1\" class=\"data row22 col1\" >mean</td>\n",
       "            </tr>\n",
       "            <tr>\n",
       "                        <th id=\"T_5113c_level0_row23\" class=\"row_heading level0 row23\" >23</th>\n",
       "                        <td id=\"T_5113c_row23_col0\" class=\"data row23 col0\" >Iterative Imputation Numeric Model</td>\n",
       "                        <td id=\"T_5113c_row23_col1\" class=\"data row23 col1\" >None</td>\n",
       "            </tr>\n",
       "            <tr>\n",
       "                        <th id=\"T_5113c_level0_row24\" class=\"row_heading level0 row24\" >24</th>\n",
       "                        <td id=\"T_5113c_row24_col0\" class=\"data row24 col0\" >Categorical Imputer</td>\n",
       "                        <td id=\"T_5113c_row24_col1\" class=\"data row24 col1\" >constant</td>\n",
       "            </tr>\n",
       "            <tr>\n",
       "                        <th id=\"T_5113c_level0_row25\" class=\"row_heading level0 row25\" >25</th>\n",
       "                        <td id=\"T_5113c_row25_col0\" class=\"data row25 col0\" >Iterative Imputation Categorical Model</td>\n",
       "                        <td id=\"T_5113c_row25_col1\" class=\"data row25 col1\" >None</td>\n",
       "            </tr>\n",
       "            <tr>\n",
       "                        <th id=\"T_5113c_level0_row26\" class=\"row_heading level0 row26\" >26</th>\n",
       "                        <td id=\"T_5113c_row26_col0\" class=\"data row26 col0\" >Unknown Categoricals Handling</td>\n",
       "                        <td id=\"T_5113c_row26_col1\" class=\"data row26 col1\" >least_frequent</td>\n",
       "            </tr>\n",
       "            <tr>\n",
       "                        <th id=\"T_5113c_level0_row27\" class=\"row_heading level0 row27\" >27</th>\n",
       "                        <td id=\"T_5113c_row27_col0\" class=\"data row27 col0\" >Normalize</td>\n",
       "                        <td id=\"T_5113c_row27_col1\" class=\"data row27 col1\" >True</td>\n",
       "            </tr>\n",
       "            <tr>\n",
       "                        <th id=\"T_5113c_level0_row28\" class=\"row_heading level0 row28\" >28</th>\n",
       "                        <td id=\"T_5113c_row28_col0\" class=\"data row28 col0\" >Normalize Method</td>\n",
       "                        <td id=\"T_5113c_row28_col1\" class=\"data row28 col1\" >zscore</td>\n",
       "            </tr>\n",
       "            <tr>\n",
       "                        <th id=\"T_5113c_level0_row29\" class=\"row_heading level0 row29\" >29</th>\n",
       "                        <td id=\"T_5113c_row29_col0\" class=\"data row29 col0\" >Transformation</td>\n",
       "                        <td id=\"T_5113c_row29_col1\" class=\"data row29 col1\" >False</td>\n",
       "            </tr>\n",
       "            <tr>\n",
       "                        <th id=\"T_5113c_level0_row30\" class=\"row_heading level0 row30\" >30</th>\n",
       "                        <td id=\"T_5113c_row30_col0\" class=\"data row30 col0\" >Transformation Method</td>\n",
       "                        <td id=\"T_5113c_row30_col1\" class=\"data row30 col1\" >None</td>\n",
       "            </tr>\n",
       "            <tr>\n",
       "                        <th id=\"T_5113c_level0_row31\" class=\"row_heading level0 row31\" >31</th>\n",
       "                        <td id=\"T_5113c_row31_col0\" class=\"data row31 col0\" >PCA</td>\n",
       "                        <td id=\"T_5113c_row31_col1\" class=\"data row31 col1\" >False</td>\n",
       "            </tr>\n",
       "            <tr>\n",
       "                        <th id=\"T_5113c_level0_row32\" class=\"row_heading level0 row32\" >32</th>\n",
       "                        <td id=\"T_5113c_row32_col0\" class=\"data row32 col0\" >PCA Method</td>\n",
       "                        <td id=\"T_5113c_row32_col1\" class=\"data row32 col1\" >None</td>\n",
       "            </tr>\n",
       "            <tr>\n",
       "                        <th id=\"T_5113c_level0_row33\" class=\"row_heading level0 row33\" >33</th>\n",
       "                        <td id=\"T_5113c_row33_col0\" class=\"data row33 col0\" >PCA Components</td>\n",
       "                        <td id=\"T_5113c_row33_col1\" class=\"data row33 col1\" >None</td>\n",
       "            </tr>\n",
       "            <tr>\n",
       "                        <th id=\"T_5113c_level0_row34\" class=\"row_heading level0 row34\" >34</th>\n",
       "                        <td id=\"T_5113c_row34_col0\" class=\"data row34 col0\" >Ignore Low Variance</td>\n",
       "                        <td id=\"T_5113c_row34_col1\" class=\"data row34 col1\" >False</td>\n",
       "            </tr>\n",
       "            <tr>\n",
       "                        <th id=\"T_5113c_level0_row35\" class=\"row_heading level0 row35\" >35</th>\n",
       "                        <td id=\"T_5113c_row35_col0\" class=\"data row35 col0\" >Combine Rare Levels</td>\n",
       "                        <td id=\"T_5113c_row35_col1\" class=\"data row35 col1\" >False</td>\n",
       "            </tr>\n",
       "            <tr>\n",
       "                        <th id=\"T_5113c_level0_row36\" class=\"row_heading level0 row36\" >36</th>\n",
       "                        <td id=\"T_5113c_row36_col0\" class=\"data row36 col0\" >Rare Level Threshold</td>\n",
       "                        <td id=\"T_5113c_row36_col1\" class=\"data row36 col1\" >None</td>\n",
       "            </tr>\n",
       "            <tr>\n",
       "                        <th id=\"T_5113c_level0_row37\" class=\"row_heading level0 row37\" >37</th>\n",
       "                        <td id=\"T_5113c_row37_col0\" class=\"data row37 col0\" >Numeric Binning</td>\n",
       "                        <td id=\"T_5113c_row37_col1\" class=\"data row37 col1\" >False</td>\n",
       "            </tr>\n",
       "            <tr>\n",
       "                        <th id=\"T_5113c_level0_row38\" class=\"row_heading level0 row38\" >38</th>\n",
       "                        <td id=\"T_5113c_row38_col0\" class=\"data row38 col0\" >Remove Outliers</td>\n",
       "                        <td id=\"T_5113c_row38_col1\" class=\"data row38 col1\" >False</td>\n",
       "            </tr>\n",
       "            <tr>\n",
       "                        <th id=\"T_5113c_level0_row39\" class=\"row_heading level0 row39\" >39</th>\n",
       "                        <td id=\"T_5113c_row39_col0\" class=\"data row39 col0\" >Outliers Threshold</td>\n",
       "                        <td id=\"T_5113c_row39_col1\" class=\"data row39 col1\" >None</td>\n",
       "            </tr>\n",
       "            <tr>\n",
       "                        <th id=\"T_5113c_level0_row40\" class=\"row_heading level0 row40\" >40</th>\n",
       "                        <td id=\"T_5113c_row40_col0\" class=\"data row40 col0\" >Remove Multicollinearity</td>\n",
       "                        <td id=\"T_5113c_row40_col1\" class=\"data row40 col1\" >False</td>\n",
       "            </tr>\n",
       "            <tr>\n",
       "                        <th id=\"T_5113c_level0_row41\" class=\"row_heading level0 row41\" >41</th>\n",
       "                        <td id=\"T_5113c_row41_col0\" class=\"data row41 col0\" >Multicollinearity Threshold</td>\n",
       "                        <td id=\"T_5113c_row41_col1\" class=\"data row41 col1\" >None</td>\n",
       "            </tr>\n",
       "            <tr>\n",
       "                        <th id=\"T_5113c_level0_row42\" class=\"row_heading level0 row42\" >42</th>\n",
       "                        <td id=\"T_5113c_row42_col0\" class=\"data row42 col0\" >Remove Perfect Collinearity</td>\n",
       "                        <td id=\"T_5113c_row42_col1\" class=\"data row42 col1\" >True</td>\n",
       "            </tr>\n",
       "            <tr>\n",
       "                        <th id=\"T_5113c_level0_row43\" class=\"row_heading level0 row43\" >43</th>\n",
       "                        <td id=\"T_5113c_row43_col0\" class=\"data row43 col0\" >Clustering</td>\n",
       "                        <td id=\"T_5113c_row43_col1\" class=\"data row43 col1\" >False</td>\n",
       "            </tr>\n",
       "            <tr>\n",
       "                        <th id=\"T_5113c_level0_row44\" class=\"row_heading level0 row44\" >44</th>\n",
       "                        <td id=\"T_5113c_row44_col0\" class=\"data row44 col0\" >Clustering Iteration</td>\n",
       "                        <td id=\"T_5113c_row44_col1\" class=\"data row44 col1\" >None</td>\n",
       "            </tr>\n",
       "            <tr>\n",
       "                        <th id=\"T_5113c_level0_row45\" class=\"row_heading level0 row45\" >45</th>\n",
       "                        <td id=\"T_5113c_row45_col0\" class=\"data row45 col0\" >Polynomial Features</td>\n",
       "                        <td id=\"T_5113c_row45_col1\" class=\"data row45 col1\" >False</td>\n",
       "            </tr>\n",
       "            <tr>\n",
       "                        <th id=\"T_5113c_level0_row46\" class=\"row_heading level0 row46\" >46</th>\n",
       "                        <td id=\"T_5113c_row46_col0\" class=\"data row46 col0\" >Polynomial Degree</td>\n",
       "                        <td id=\"T_5113c_row46_col1\" class=\"data row46 col1\" >None</td>\n",
       "            </tr>\n",
       "            <tr>\n",
       "                        <th id=\"T_5113c_level0_row47\" class=\"row_heading level0 row47\" >47</th>\n",
       "                        <td id=\"T_5113c_row47_col0\" class=\"data row47 col0\" >Trignometry Features</td>\n",
       "                        <td id=\"T_5113c_row47_col1\" class=\"data row47 col1\" >False</td>\n",
       "            </tr>\n",
       "            <tr>\n",
       "                        <th id=\"T_5113c_level0_row48\" class=\"row_heading level0 row48\" >48</th>\n",
       "                        <td id=\"T_5113c_row48_col0\" class=\"data row48 col0\" >Polynomial Threshold</td>\n",
       "                        <td id=\"T_5113c_row48_col1\" class=\"data row48 col1\" >None</td>\n",
       "            </tr>\n",
       "            <tr>\n",
       "                        <th id=\"T_5113c_level0_row49\" class=\"row_heading level0 row49\" >49</th>\n",
       "                        <td id=\"T_5113c_row49_col0\" class=\"data row49 col0\" >Group Features</td>\n",
       "                        <td id=\"T_5113c_row49_col1\" class=\"data row49 col1\" >False</td>\n",
       "            </tr>\n",
       "            <tr>\n",
       "                        <th id=\"T_5113c_level0_row50\" class=\"row_heading level0 row50\" >50</th>\n",
       "                        <td id=\"T_5113c_row50_col0\" class=\"data row50 col0\" >Feature Selection</td>\n",
       "                        <td id=\"T_5113c_row50_col1\" class=\"data row50 col1\" >False</td>\n",
       "            </tr>\n",
       "            <tr>\n",
       "                        <th id=\"T_5113c_level0_row51\" class=\"row_heading level0 row51\" >51</th>\n",
       "                        <td id=\"T_5113c_row51_col0\" class=\"data row51 col0\" >Feature Selection Method</td>\n",
       "                        <td id=\"T_5113c_row51_col1\" class=\"data row51 col1\" >classic</td>\n",
       "            </tr>\n",
       "            <tr>\n",
       "                        <th id=\"T_5113c_level0_row52\" class=\"row_heading level0 row52\" >52</th>\n",
       "                        <td id=\"T_5113c_row52_col0\" class=\"data row52 col0\" >Features Selection Threshold</td>\n",
       "                        <td id=\"T_5113c_row52_col1\" class=\"data row52 col1\" >None</td>\n",
       "            </tr>\n",
       "            <tr>\n",
       "                        <th id=\"T_5113c_level0_row53\" class=\"row_heading level0 row53\" >53</th>\n",
       "                        <td id=\"T_5113c_row53_col0\" class=\"data row53 col0\" >Feature Interaction</td>\n",
       "                        <td id=\"T_5113c_row53_col1\" class=\"data row53 col1\" >False</td>\n",
       "            </tr>\n",
       "            <tr>\n",
       "                        <th id=\"T_5113c_level0_row54\" class=\"row_heading level0 row54\" >54</th>\n",
       "                        <td id=\"T_5113c_row54_col0\" class=\"data row54 col0\" >Feature Ratio</td>\n",
       "                        <td id=\"T_5113c_row54_col1\" class=\"data row54 col1\" >False</td>\n",
       "            </tr>\n",
       "            <tr>\n",
       "                        <th id=\"T_5113c_level0_row55\" class=\"row_heading level0 row55\" >55</th>\n",
       "                        <td id=\"T_5113c_row55_col0\" class=\"data row55 col0\" >Interaction Threshold</td>\n",
       "                        <td id=\"T_5113c_row55_col1\" class=\"data row55 col1\" >None</td>\n",
       "            </tr>\n",
       "            <tr>\n",
       "                        <th id=\"T_5113c_level0_row56\" class=\"row_heading level0 row56\" >56</th>\n",
       "                        <td id=\"T_5113c_row56_col0\" class=\"data row56 col0\" >Transform Target</td>\n",
       "                        <td id=\"T_5113c_row56_col1\" class=\"data row56 col1\" >False</td>\n",
       "            </tr>\n",
       "            <tr>\n",
       "                        <th id=\"T_5113c_level0_row57\" class=\"row_heading level0 row57\" >57</th>\n",
       "                        <td id=\"T_5113c_row57_col0\" class=\"data row57 col0\" >Transform Target Method</td>\n",
       "                        <td id=\"T_5113c_row57_col1\" class=\"data row57 col1\" >box-cox</td>\n",
       "            </tr>\n",
       "    </tbody></table>"
      ],
      "text/plain": [
       "<pandas.io.formats.style.Styler at 0x7fb0ba5f2b80>"
      ]
     },
     "metadata": {},
     "output_type": "display_data"
    }
   ],
   "source": [
    "# initiating regression environment\n",
    "reg01 = setup(data = sales, target = 'demand', session_id=123,\n",
    "              log_experiment = True, experiment_name = 'sales_1_exp', normalize=True, fold=3, \n",
    "              numeric_features=numeric, ordinal_features={\"item_id\": list(sales[\"item_id\"].unique())}, \n",
    "              data_split_shuffle = False, fold_strategy=\"timeseries\", silent=True)"
   ]
  },
  {
   "cell_type": "markdown",
   "id": "c46b701f",
   "metadata": {},
   "source": [
    "Note, that in a few moments after calling `setup()` function, it will display dataframe with automaticaly inferred data types. To proceed, you need to press \"enter\". If you don't agree with assigned data types you should type \"quit\" and press enter to stop the `setup()`. You can also prevent data types autoinferring by specifying all or some of variable types in relevant `setup()` parameters (`ordinal_features`, `numeric_features`, `categorical_features`) jut like we did.\n",
    "\n",
    "If you are sure that PyCaret will assign data types correctly, you can set  `silent=True ` to prevent prompting the user data type confirmation."
   ]
  },
  {
   "cell_type": "markdown",
   "id": "6e48b22c",
   "metadata": {},
   "source": [
    "# 2. Comparing "
   ]
  },
  {
   "cell_type": "markdown",
   "id": "333c1131",
   "metadata": {},
   "source": [
    "PyCaret allows to create different baseline models and see their metrics in one line code using `compare()` function. \n",
    "\n",
    "Here is a short info about parameters we used for it.\n",
    "\n",
    "With default parameters, this function builds all 25 available models, prints their evaluating metrics and returns a model with the highest `R2` score.\n",
    "To save some time, we can set `include` parameter to a list of estimators that PyCaret should use for comparing. It's a good choice when you want to use a specific algorithm or a few of them. On the other hand, we can use `exculude` parameter to use all available estimators except those specified in the parameter.\n",
    "\n",
    "If we want our model to return top 2 models (insted of 1) we should mention it in `n_select` parameter. You can also specify `sort` parameter to choose main metric for comparing.\n",
    "\n",
    "Thus, `top2` variable will store a list of 2 best baselines (with highest `MAE` score)."
   ]
  },
  {
   "cell_type": "code",
   "execution_count": 24,
   "id": "4ad743b5",
   "metadata": {},
   "outputs": [
    {
     "data": {
      "text/html": [
       "<style  type=\"text/css\" >\n",
       "    #T_86b5d_ th {\n",
       "          text-align: left;\n",
       "    }#T_86b5d_row0_col0,#T_86b5d_row0_col2,#T_86b5d_row0_col3,#T_86b5d_row0_col4,#T_86b5d_row0_col6,#T_86b5d_row1_col0,#T_86b5d_row1_col1,#T_86b5d_row1_col5{\n",
       "            text-align:  left;\n",
       "            text-align:  left;\n",
       "        }#T_86b5d_row0_col1,#T_86b5d_row0_col5,#T_86b5d_row1_col2,#T_86b5d_row1_col3,#T_86b5d_row1_col4,#T_86b5d_row1_col6{\n",
       "            text-align:  left;\n",
       "            text-align:  left;\n",
       "            background-color:  yellow;\n",
       "        }#T_86b5d_row0_col7{\n",
       "            text-align:  left;\n",
       "            text-align:  left;\n",
       "            background-color:  yellow;\n",
       "            background-color:  lightgrey;\n",
       "        }#T_86b5d_row1_col7{\n",
       "            text-align:  left;\n",
       "            text-align:  left;\n",
       "            background-color:  lightgrey;\n",
       "        }</style><table id=\"T_86b5d_\" ><thead>    <tr>        <th class=\"blank level0\" ></th>        <th class=\"col_heading level0 col0\" >Model</th>        <th class=\"col_heading level0 col1\" >MAE</th>        <th class=\"col_heading level0 col2\" >MSE</th>        <th class=\"col_heading level0 col3\" >RMSE</th>        <th class=\"col_heading level0 col4\" >R2</th>        <th class=\"col_heading level0 col5\" >RMSLE</th>        <th class=\"col_heading level0 col6\" >MAPE</th>        <th class=\"col_heading level0 col7\" >TT (Sec)</th>    </tr></thead><tbody>\n",
       "                <tr>\n",
       "                        <th id=\"T_86b5d_level0_row0\" class=\"row_heading level0 row0\" >dt</th>\n",
       "                        <td id=\"T_86b5d_row0_col0\" class=\"data row0 col0\" >Decision Tree Regressor</td>\n",
       "                        <td id=\"T_86b5d_row0_col1\" class=\"data row0 col1\" >1.1089</td>\n",
       "                        <td id=\"T_86b5d_row0_col2\" class=\"data row0 col2\" >8.7692</td>\n",
       "                        <td id=\"T_86b5d_row0_col3\" class=\"data row0 col3\" >2.9579</td>\n",
       "                        <td id=\"T_86b5d_row0_col4\" class=\"data row0 col4\" >0.2426</td>\n",
       "                        <td id=\"T_86b5d_row0_col5\" class=\"data row0 col5\" >0.6333</td>\n",
       "                        <td id=\"T_86b5d_row0_col6\" class=\"data row0 col6\" >0.9116</td>\n",
       "                        <td id=\"T_86b5d_row0_col7\" class=\"data row0 col7\" >1.0700</td>\n",
       "            </tr>\n",
       "            <tr>\n",
       "                        <th id=\"T_86b5d_level0_row1\" class=\"row_heading level0 row1\" >lightgbm</th>\n",
       "                        <td id=\"T_86b5d_row1_col0\" class=\"data row1 col0\" >Light Gradient Boosting Machine</td>\n",
       "                        <td id=\"T_86b5d_row1_col1\" class=\"data row1 col1\" >1.2458</td>\n",
       "                        <td id=\"T_86b5d_row1_col2\" class=\"data row1 col2\" >7.1863</td>\n",
       "                        <td id=\"T_86b5d_row1_col3\" class=\"data row1 col3\" >2.6727</td>\n",
       "                        <td id=\"T_86b5d_row1_col4\" class=\"data row1 col4\" >0.3845</td>\n",
       "                        <td id=\"T_86b5d_row1_col5\" class=\"data row1 col5\" >0.6366</td>\n",
       "                        <td id=\"T_86b5d_row1_col6\" class=\"data row1 col6\" >0.5887</td>\n",
       "                        <td id=\"T_86b5d_row1_col7\" class=\"data row1 col7\" >1.6167</td>\n",
       "            </tr>\n",
       "    </tbody></table>"
      ],
      "text/plain": [
       "<pandas.io.formats.style.Styler at 0x7fb0bd0fba30>"
      ]
     },
     "metadata": {},
     "output_type": "display_data"
    }
   ],
   "source": [
    "top2 = compare_models(include = [\"lightgbm\", \"dt\"], n_select=2, sort=\"MAE\")\n",
    "score_df = pull()"
   ]
  },
  {
   "cell_type": "markdown",
   "id": "5d24f03b",
   "metadata": {},
   "source": [
    "Plase note, that the score dataframe shown above is not returned by the `compare()` function. If you want to return and store this dataframe, you should use `pull()` function right after calling `compare()`. The same applies to any other PyCaret functions displaying but not returning dataframes after being called. "
   ]
  },
  {
   "cell_type": "markdown",
   "id": "5b815e62",
   "metadata": {},
   "source": [
    "# 3.Create_model()"
   ]
  },
  {
   "cell_type": "markdown",
   "id": "eac844bb",
   "metadata": {},
   "source": [
    "`create_model()` function is just another way to create baselines. However, in this case, only one baseline model can be made by calling the function. \n",
    "\n",
    "We have already compared 2 baselines, and it seems that vanilla `Light Gradient Boosting Machine` deals better with our data. Let's create two baselines one more time and save them apart. "
   ]
  },
  {
   "cell_type": "code",
   "execution_count": 25,
   "id": "145ef49b",
   "metadata": {},
   "outputs": [
    {
     "data": {
      "text/html": [
       "<style  type=\"text/css\" >\n",
       "#T_a1f5d_row3_col0,#T_a1f5d_row3_col1,#T_a1f5d_row3_col2,#T_a1f5d_row3_col3,#T_a1f5d_row3_col4,#T_a1f5d_row3_col5{\n",
       "            background:  yellow;\n",
       "        }</style><table id=\"T_a1f5d_\" ><thead>    <tr>        <th class=\"blank level0\" ></th>        <th class=\"col_heading level0 col0\" >MAE</th>        <th class=\"col_heading level0 col1\" >MSE</th>        <th class=\"col_heading level0 col2\" >RMSE</th>        <th class=\"col_heading level0 col3\" >R2</th>        <th class=\"col_heading level0 col4\" >RMSLE</th>        <th class=\"col_heading level0 col5\" >MAPE</th>    </tr></thead><tbody>\n",
       "                <tr>\n",
       "                        <th id=\"T_a1f5d_level0_row0\" class=\"row_heading level0 row0\" >0</th>\n",
       "                        <td id=\"T_a1f5d_row0_col0\" class=\"data row0 col0\" >1.3025</td>\n",
       "                        <td id=\"T_a1f5d_row0_col1\" class=\"data row0 col1\" >8.7453</td>\n",
       "                        <td id=\"T_a1f5d_row0_col2\" class=\"data row0 col2\" >2.9573</td>\n",
       "                        <td id=\"T_a1f5d_row0_col3\" class=\"data row0 col3\" >0.3542</td>\n",
       "                        <td id=\"T_a1f5d_row0_col4\" class=\"data row0 col4\" >0.6428</td>\n",
       "                        <td id=\"T_a1f5d_row0_col5\" class=\"data row0 col5\" >0.5941</td>\n",
       "            </tr>\n",
       "            <tr>\n",
       "                        <th id=\"T_a1f5d_level0_row1\" class=\"row_heading level0 row1\" >1</th>\n",
       "                        <td id=\"T_a1f5d_row1_col0\" class=\"data row1 col0\" >1.2461</td>\n",
       "                        <td id=\"T_a1f5d_row1_col1\" class=\"data row1 col1\" >6.7186</td>\n",
       "                        <td id=\"T_a1f5d_row1_col2\" class=\"data row1 col2\" >2.5920</td>\n",
       "                        <td id=\"T_a1f5d_row1_col3\" class=\"data row1 col3\" >0.3998</td>\n",
       "                        <td id=\"T_a1f5d_row1_col4\" class=\"data row1 col4\" >0.6391</td>\n",
       "                        <td id=\"T_a1f5d_row1_col5\" class=\"data row1 col5\" >0.5865</td>\n",
       "            </tr>\n",
       "            <tr>\n",
       "                        <th id=\"T_a1f5d_level0_row2\" class=\"row_heading level0 row2\" >2</th>\n",
       "                        <td id=\"T_a1f5d_row2_col0\" class=\"data row2 col0\" >1.1889</td>\n",
       "                        <td id=\"T_a1f5d_row2_col1\" class=\"data row2 col1\" >6.0949</td>\n",
       "                        <td id=\"T_a1f5d_row2_col2\" class=\"data row2 col2\" >2.4688</td>\n",
       "                        <td id=\"T_a1f5d_row2_col3\" class=\"data row2 col3\" >0.3995</td>\n",
       "                        <td id=\"T_a1f5d_row2_col4\" class=\"data row2 col4\" >0.6279</td>\n",
       "                        <td id=\"T_a1f5d_row2_col5\" class=\"data row2 col5\" >0.5856</td>\n",
       "            </tr>\n",
       "            <tr>\n",
       "                        <th id=\"T_a1f5d_level0_row3\" class=\"row_heading level0 row3\" >Mean</th>\n",
       "                        <td id=\"T_a1f5d_row3_col0\" class=\"data row3 col0\" >1.2458</td>\n",
       "                        <td id=\"T_a1f5d_row3_col1\" class=\"data row3 col1\" >7.1863</td>\n",
       "                        <td id=\"T_a1f5d_row3_col2\" class=\"data row3 col2\" >2.6727</td>\n",
       "                        <td id=\"T_a1f5d_row3_col3\" class=\"data row3 col3\" >0.3845</td>\n",
       "                        <td id=\"T_a1f5d_row3_col4\" class=\"data row3 col4\" >0.6366</td>\n",
       "                        <td id=\"T_a1f5d_row3_col5\" class=\"data row3 col5\" >0.5887</td>\n",
       "            </tr>\n",
       "            <tr>\n",
       "                        <th id=\"T_a1f5d_level0_row4\" class=\"row_heading level0 row4\" >SD</th>\n",
       "                        <td id=\"T_a1f5d_row4_col0\" class=\"data row4 col0\" >0.0464</td>\n",
       "                        <td id=\"T_a1f5d_row4_col1\" class=\"data row4 col1\" >1.1315</td>\n",
       "                        <td id=\"T_a1f5d_row4_col2\" class=\"data row4 col2\" >0.2074</td>\n",
       "                        <td id=\"T_a1f5d_row4_col3\" class=\"data row4 col3\" >0.0214</td>\n",
       "                        <td id=\"T_a1f5d_row4_col4\" class=\"data row4 col4\" >0.0063</td>\n",
       "                        <td id=\"T_a1f5d_row4_col5\" class=\"data row4 col5\" >0.0038</td>\n",
       "            </tr>\n",
       "    </tbody></table>"
      ],
      "text/plain": [
       "<pandas.io.formats.style.Styler at 0x7fb099e73be0>"
      ]
     },
     "metadata": {},
     "output_type": "display_data"
    }
   ],
   "source": [
    "lgbm = create_model(\"lightgbm\")"
   ]
  },
  {
   "cell_type": "code",
   "execution_count": 26,
   "id": "b3d03d9b",
   "metadata": {},
   "outputs": [
    {
     "data": {
      "text/html": [
       "<style  type=\"text/css\" >\n",
       "#T_7ed03_row3_col0,#T_7ed03_row3_col1,#T_7ed03_row3_col2,#T_7ed03_row3_col3,#T_7ed03_row3_col4,#T_7ed03_row3_col5{\n",
       "            background:  yellow;\n",
       "        }</style><table id=\"T_7ed03_\" ><thead>    <tr>        <th class=\"blank level0\" ></th>        <th class=\"col_heading level0 col0\" >MAE</th>        <th class=\"col_heading level0 col1\" >MSE</th>        <th class=\"col_heading level0 col2\" >RMSE</th>        <th class=\"col_heading level0 col3\" >R2</th>        <th class=\"col_heading level0 col4\" >RMSLE</th>        <th class=\"col_heading level0 col5\" >MAPE</th>    </tr></thead><tbody>\n",
       "                <tr>\n",
       "                        <th id=\"T_7ed03_level0_row0\" class=\"row_heading level0 row0\" >0</th>\n",
       "                        <td id=\"T_7ed03_row0_col0\" class=\"data row0 col0\" >1.1098</td>\n",
       "                        <td id=\"T_7ed03_row0_col1\" class=\"data row0 col1\" >9.9559</td>\n",
       "                        <td id=\"T_7ed03_row0_col2\" class=\"data row0 col2\" >3.1553</td>\n",
       "                        <td id=\"T_7ed03_row0_col3\" class=\"data row0 col3\" >0.2648</td>\n",
       "                        <td id=\"T_7ed03_row0_col4\" class=\"data row0 col4\" >0.6309</td>\n",
       "                        <td id=\"T_7ed03_row0_col5\" class=\"data row0 col5\" >0.8734</td>\n",
       "            </tr>\n",
       "            <tr>\n",
       "                        <th id=\"T_7ed03_level0_row1\" class=\"row_heading level0 row1\" >1</th>\n",
       "                        <td id=\"T_7ed03_row1_col0\" class=\"data row1 col0\" >1.1066</td>\n",
       "                        <td id=\"T_7ed03_row1_col1\" class=\"data row1 col1\" >8.0443</td>\n",
       "                        <td id=\"T_7ed03_row1_col2\" class=\"data row1 col2\" >2.8362</td>\n",
       "                        <td id=\"T_7ed03_row1_col3\" class=\"data row1 col3\" >0.2814</td>\n",
       "                        <td id=\"T_7ed03_row1_col4\" class=\"data row1 col4\" >0.6332</td>\n",
       "                        <td id=\"T_7ed03_row1_col5\" class=\"data row1 col5\" >0.9173</td>\n",
       "            </tr>\n",
       "            <tr>\n",
       "                        <th id=\"T_7ed03_level0_row2\" class=\"row_heading level0 row2\" >2</th>\n",
       "                        <td id=\"T_7ed03_row2_col0\" class=\"data row2 col0\" >1.1103</td>\n",
       "                        <td id=\"T_7ed03_row2_col1\" class=\"data row2 col1\" >8.3075</td>\n",
       "                        <td id=\"T_7ed03_row2_col2\" class=\"data row2 col2\" >2.8823</td>\n",
       "                        <td id=\"T_7ed03_row2_col3\" class=\"data row2 col3\" >0.1815</td>\n",
       "                        <td id=\"T_7ed03_row2_col4\" class=\"data row2 col4\" >0.6357</td>\n",
       "                        <td id=\"T_7ed03_row2_col5\" class=\"data row2 col5\" >0.9441</td>\n",
       "            </tr>\n",
       "            <tr>\n",
       "                        <th id=\"T_7ed03_level0_row3\" class=\"row_heading level0 row3\" >Mean</th>\n",
       "                        <td id=\"T_7ed03_row3_col0\" class=\"data row3 col0\" >1.1089</td>\n",
       "                        <td id=\"T_7ed03_row3_col1\" class=\"data row3 col1\" >8.7692</td>\n",
       "                        <td id=\"T_7ed03_row3_col2\" class=\"data row3 col2\" >2.9579</td>\n",
       "                        <td id=\"T_7ed03_row3_col3\" class=\"data row3 col3\" >0.2426</td>\n",
       "                        <td id=\"T_7ed03_row3_col4\" class=\"data row3 col4\" >0.6333</td>\n",
       "                        <td id=\"T_7ed03_row3_col5\" class=\"data row3 col5\" >0.9116</td>\n",
       "            </tr>\n",
       "            <tr>\n",
       "                        <th id=\"T_7ed03_level0_row4\" class=\"row_heading level0 row4\" >SD</th>\n",
       "                        <td id=\"T_7ed03_row4_col0\" class=\"data row4 col0\" >0.0017</td>\n",
       "                        <td id=\"T_7ed03_row4_col1\" class=\"data row4 col1\" >0.8460</td>\n",
       "                        <td id=\"T_7ed03_row4_col2\" class=\"data row4 col2\" >0.1408</td>\n",
       "                        <td id=\"T_7ed03_row4_col3\" class=\"data row4 col3\" >0.0437</td>\n",
       "                        <td id=\"T_7ed03_row4_col4\" class=\"data row4 col4\" >0.0020</td>\n",
       "                        <td id=\"T_7ed03_row4_col5\" class=\"data row4 col5\" >0.0291</td>\n",
       "            </tr>\n",
       "    </tbody></table>"
      ],
      "text/plain": [
       "<pandas.io.formats.style.Styler at 0x7fb12f706ee0>"
      ]
     },
     "metadata": {},
     "output_type": "display_data"
    }
   ],
   "source": [
    "dt = create_model(\"dt\")"
   ]
  },
  {
   "cell_type": "markdown",
   "id": "9a38a424",
   "metadata": {},
   "source": [
    "# 4. Tuning"
   ]
  },
  {
   "cell_type": "markdown",
   "id": "db4a500f",
   "metadata": {},
   "source": [
    "PyCaret allows to tune hyperparameters of created models. To do that, we have to specify any trained model object (not only baseline) as a parameter inside `tune_model()` function. \n",
    "\n",
    "With other default parameters this function will iterate over it's predefined hyperparameters grid in order to optimize R2 score (each iteration will be performed on N folds specified as a parameter inside this function, otherwise number of folds from the `setup()` function will be used). \n",
    "\n",
    "To save time, we set `n_iter=2`. Also, since we are interested in \"MAE\" score of our model, we ask PyCaret to optimize this metric, instead of default \"R2\"."
   ]
  },
  {
   "cell_type": "code",
   "execution_count": 27,
   "id": "65e3aeb5",
   "metadata": {},
   "outputs": [
    {
     "data": {
      "text/html": [
       "<style  type=\"text/css\" >\n",
       "#T_6e7ac_row3_col0,#T_6e7ac_row3_col1,#T_6e7ac_row3_col2,#T_6e7ac_row3_col3,#T_6e7ac_row3_col4,#T_6e7ac_row3_col5{\n",
       "            background:  yellow;\n",
       "        }</style><table id=\"T_6e7ac_\" ><thead>    <tr>        <th class=\"blank level0\" ></th>        <th class=\"col_heading level0 col0\" >MAE</th>        <th class=\"col_heading level0 col1\" >MSE</th>        <th class=\"col_heading level0 col2\" >RMSE</th>        <th class=\"col_heading level0 col3\" >R2</th>        <th class=\"col_heading level0 col4\" >RMSLE</th>        <th class=\"col_heading level0 col5\" >MAPE</th>    </tr></thead><tbody>\n",
       "                <tr>\n",
       "                        <th id=\"T_6e7ac_level0_row0\" class=\"row_heading level0 row0\" >0</th>\n",
       "                        <td id=\"T_6e7ac_row0_col0\" class=\"data row0 col0\" >1.4303</td>\n",
       "                        <td id=\"T_6e7ac_row0_col1\" class=\"data row0 col1\" >11.2302</td>\n",
       "                        <td id=\"T_6e7ac_row0_col2\" class=\"data row0 col2\" >3.3511</td>\n",
       "                        <td id=\"T_6e7ac_row0_col3\" class=\"data row0 col3\" >0.1707</td>\n",
       "                        <td id=\"T_6e7ac_row0_col4\" class=\"data row0 col4\" >0.6839</td>\n",
       "                        <td id=\"T_6e7ac_row0_col5\" class=\"data row0 col5\" >0.5065</td>\n",
       "            </tr>\n",
       "            <tr>\n",
       "                        <th id=\"T_6e7ac_level0_row1\" class=\"row_heading level0 row1\" >1</th>\n",
       "                        <td id=\"T_6e7ac_row1_col0\" class=\"data row1 col0\" >1.3570</td>\n",
       "                        <td id=\"T_6e7ac_row1_col1\" class=\"data row1 col1\" >8.6701</td>\n",
       "                        <td id=\"T_6e7ac_row1_col2\" class=\"data row1 col2\" >2.9445</td>\n",
       "                        <td id=\"T_6e7ac_row1_col3\" class=\"data row1 col3\" >0.2255</td>\n",
       "                        <td id=\"T_6e7ac_row1_col4\" class=\"data row1 col4\" >0.6733</td>\n",
       "                        <td id=\"T_6e7ac_row1_col5\" class=\"data row1 col5\" >0.4955</td>\n",
       "            </tr>\n",
       "            <tr>\n",
       "                        <th id=\"T_6e7ac_level0_row2\" class=\"row_heading level0 row2\" >2</th>\n",
       "                        <td id=\"T_6e7ac_row2_col0\" class=\"data row2 col0\" >1.2881</td>\n",
       "                        <td id=\"T_6e7ac_row2_col1\" class=\"data row2 col1\" >7.3865</td>\n",
       "                        <td id=\"T_6e7ac_row2_col2\" class=\"data row2 col2\" >2.7178</td>\n",
       "                        <td id=\"T_6e7ac_row2_col3\" class=\"data row2 col3\" >0.2722</td>\n",
       "                        <td id=\"T_6e7ac_row2_col4\" class=\"data row2 col4\" >0.6608</td>\n",
       "                        <td id=\"T_6e7ac_row2_col5\" class=\"data row2 col5\" >0.4748</td>\n",
       "            </tr>\n",
       "            <tr>\n",
       "                        <th id=\"T_6e7ac_level0_row3\" class=\"row_heading level0 row3\" >Mean</th>\n",
       "                        <td id=\"T_6e7ac_row3_col0\" class=\"data row3 col0\" >1.3585</td>\n",
       "                        <td id=\"T_6e7ac_row3_col1\" class=\"data row3 col1\" >9.0956</td>\n",
       "                        <td id=\"T_6e7ac_row3_col2\" class=\"data row3 col2\" >3.0045</td>\n",
       "                        <td id=\"T_6e7ac_row3_col3\" class=\"data row3 col3\" >0.2228</td>\n",
       "                        <td id=\"T_6e7ac_row3_col4\" class=\"data row3 col4\" >0.6727</td>\n",
       "                        <td id=\"T_6e7ac_row3_col5\" class=\"data row3 col5\" >0.4923</td>\n",
       "            </tr>\n",
       "            <tr>\n",
       "                        <th id=\"T_6e7ac_level0_row4\" class=\"row_heading level0 row4\" >SD</th>\n",
       "                        <td id=\"T_6e7ac_row4_col0\" class=\"data row4 col0\" >0.0580</td>\n",
       "                        <td id=\"T_6e7ac_row4_col1\" class=\"data row4 col1\" >1.5977</td>\n",
       "                        <td id=\"T_6e7ac_row4_col2\" class=\"data row4 col2\" >0.2620</td>\n",
       "                        <td id=\"T_6e7ac_row4_col3\" class=\"data row4 col3\" >0.0415</td>\n",
       "                        <td id=\"T_6e7ac_row4_col4\" class=\"data row4 col4\" >0.0094</td>\n",
       "                        <td id=\"T_6e7ac_row4_col5\" class=\"data row4 col5\" >0.0131</td>\n",
       "            </tr>\n",
       "    </tbody></table>"
      ],
      "text/plain": [
       "<pandas.io.formats.style.Styler at 0x7fb0bd0fb3a0>"
      ]
     },
     "metadata": {},
     "output_type": "display_data"
    }
   ],
   "source": [
    "lgbm_autotuned = tune_model(lgbm, n_iter=2, optimize=\"MAE\")"
   ]
  },
  {
   "cell_type": "markdown",
   "id": "d82e1a1c",
   "metadata": {},
   "source": [
    "`tune_model()` function can be used with our custom grid of hyperparameters. "
   ]
  },
  {
   "cell_type": "code",
   "execution_count": 28,
   "id": "feb6e4d7",
   "metadata": {},
   "outputs": [
    {
     "data": {
      "text/html": [
       "<style  type=\"text/css\" >\n",
       "#T_1cc96_row3_col0,#T_1cc96_row3_col1,#T_1cc96_row3_col2,#T_1cc96_row3_col3,#T_1cc96_row3_col4,#T_1cc96_row3_col5{\n",
       "            background:  yellow;\n",
       "        }</style><table id=\"T_1cc96_\" ><thead>    <tr>        <th class=\"blank level0\" ></th>        <th class=\"col_heading level0 col0\" >MAE</th>        <th class=\"col_heading level0 col1\" >MSE</th>        <th class=\"col_heading level0 col2\" >RMSE</th>        <th class=\"col_heading level0 col3\" >R2</th>        <th class=\"col_heading level0 col4\" >RMSLE</th>        <th class=\"col_heading level0 col5\" >MAPE</th>    </tr></thead><tbody>\n",
       "                <tr>\n",
       "                        <th id=\"T_1cc96_level0_row0\" class=\"row_heading level0 row0\" >0</th>\n",
       "                        <td id=\"T_1cc96_row0_col0\" class=\"data row0 col0\" >1.2110</td>\n",
       "                        <td id=\"T_1cc96_row0_col1\" class=\"data row0 col1\" >7.8290</td>\n",
       "                        <td id=\"T_1cc96_row0_col2\" class=\"data row0 col2\" >2.7980</td>\n",
       "                        <td id=\"T_1cc96_row0_col3\" class=\"data row0 col3\" >0.4218</td>\n",
       "                        <td id=\"T_1cc96_row0_col4\" class=\"data row0 col4\" >0.6072</td>\n",
       "                        <td id=\"T_1cc96_row0_col5\" class=\"data row0 col5\" >0.6361</td>\n",
       "            </tr>\n",
       "            <tr>\n",
       "                        <th id=\"T_1cc96_level0_row1\" class=\"row_heading level0 row1\" >1</th>\n",
       "                        <td id=\"T_1cc96_row1_col0\" class=\"data row1 col0\" >1.1713</td>\n",
       "                        <td id=\"T_1cc96_row1_col1\" class=\"data row1 col1\" >6.1384</td>\n",
       "                        <td id=\"T_1cc96_row1_col2\" class=\"data row1 col2\" >2.4776</td>\n",
       "                        <td id=\"T_1cc96_row1_col3\" class=\"data row1 col3\" >0.4517</td>\n",
       "                        <td id=\"T_1cc96_row1_col4\" class=\"data row1 col4\" >0.6066</td>\n",
       "                        <td id=\"T_1cc96_row1_col5\" class=\"data row1 col5\" >0.6312</td>\n",
       "            </tr>\n",
       "            <tr>\n",
       "                        <th id=\"T_1cc96_level0_row2\" class=\"row_heading level0 row2\" >2</th>\n",
       "                        <td id=\"T_1cc96_row2_col0\" class=\"data row2 col0\" >1.1092</td>\n",
       "                        <td id=\"T_1cc96_row2_col1\" class=\"data row2 col1\" >5.2967</td>\n",
       "                        <td id=\"T_1cc96_row2_col2\" class=\"data row2 col2\" >2.3015</td>\n",
       "                        <td id=\"T_1cc96_row2_col3\" class=\"data row2 col3\" >0.4781</td>\n",
       "                        <td id=\"T_1cc96_row2_col4\" class=\"data row2 col4\" >0.5937</td>\n",
       "                        <td id=\"T_1cc96_row2_col5\" class=\"data row2 col5\" >0.6220</td>\n",
       "            </tr>\n",
       "            <tr>\n",
       "                        <th id=\"T_1cc96_level0_row3\" class=\"row_heading level0 row3\" >Mean</th>\n",
       "                        <td id=\"T_1cc96_row3_col0\" class=\"data row3 col0\" >1.1639</td>\n",
       "                        <td id=\"T_1cc96_row3_col1\" class=\"data row3 col1\" >6.4214</td>\n",
       "                        <td id=\"T_1cc96_row3_col2\" class=\"data row3 col2\" >2.5257</td>\n",
       "                        <td id=\"T_1cc96_row3_col3\" class=\"data row3 col3\" >0.4505</td>\n",
       "                        <td id=\"T_1cc96_row3_col4\" class=\"data row3 col4\" >0.6025</td>\n",
       "                        <td id=\"T_1cc96_row3_col5\" class=\"data row3 col5\" >0.6298</td>\n",
       "            </tr>\n",
       "            <tr>\n",
       "                        <th id=\"T_1cc96_level0_row4\" class=\"row_heading level0 row4\" >SD</th>\n",
       "                        <td id=\"T_1cc96_row4_col0\" class=\"data row4 col0\" >0.0419</td>\n",
       "                        <td id=\"T_1cc96_row4_col1\" class=\"data row4 col1\" >1.0530</td>\n",
       "                        <td id=\"T_1cc96_row4_col2\" class=\"data row4 col2\" >0.2056</td>\n",
       "                        <td id=\"T_1cc96_row4_col3\" class=\"data row4 col3\" >0.0230</td>\n",
       "                        <td id=\"T_1cc96_row4_col4\" class=\"data row4 col4\" >0.0062</td>\n",
       "                        <td id=\"T_1cc96_row4_col5\" class=\"data row4 col5\" >0.0058</td>\n",
       "            </tr>\n",
       "    </tbody></table>"
      ],
      "text/plain": [
       "<pandas.io.formats.style.Styler at 0x7fb12f6f0bb0>"
      ]
     },
     "metadata": {},
     "output_type": "display_data"
    }
   ],
   "source": [
    "grid_params = {'num_leaves': np.arange(10,200,10),\n",
    "               'max_depth': [int(x) for x in np.linspace(5, 50, num = 10)],\n",
    "               'learning_rate': np.arange(0.05,0.5,0.05)}\n",
    "\n",
    "lgbm_tuned = tune_model(lgbm, custom_grid=grid_params, n_iter=2, optimize=\"MAE\")"
   ]
  },
  {
   "cell_type": "markdown",
   "id": "70c6db64",
   "metadata": {},
   "source": [
    "# 5. Ensembles"
   ]
  },
  {
   "cell_type": "markdown",
   "id": "c3006b71",
   "metadata": {},
   "source": [
    "We can also easily create different types of model ensambles with PyCaret `ensemble_model()` function. "
   ]
  },
  {
   "cell_type": "markdown",
   "id": "bc00f7e0",
   "metadata": {},
   "source": [
    "## 5.1. Bagging"
   ]
  },
  {
   "cell_type": "markdown",
   "id": "77b5bc2e",
   "metadata": {},
   "source": [
    "For example, we can perform bagging with our decision tree baseline. Bagging means building a set of different learners on bootstraped dataset. The final decison is to be made by voting where each learner has equal voting right. And since, each model was trained on different parts of dataset, their votes (decisions) will not be the same. Making the number of such learners bigger helps to obtain more correct final decision. That's why, applying bagging to Decision Tree is almost the same as creating Random Forest."
   ]
  },
  {
   "cell_type": "code",
   "execution_count": 29,
   "id": "717a9524",
   "metadata": {},
   "outputs": [
    {
     "data": {
      "text/html": [
       "<style  type=\"text/css\" >\n",
       "#T_5b50e_row3_col0,#T_5b50e_row3_col1,#T_5b50e_row3_col2,#T_5b50e_row3_col3,#T_5b50e_row3_col4,#T_5b50e_row3_col5{\n",
       "            background:  yellow;\n",
       "        }</style><table id=\"T_5b50e_\" ><thead>    <tr>        <th class=\"blank level0\" ></th>        <th class=\"col_heading level0 col0\" >MAE</th>        <th class=\"col_heading level0 col1\" >MSE</th>        <th class=\"col_heading level0 col2\" >RMSE</th>        <th class=\"col_heading level0 col3\" >R2</th>        <th class=\"col_heading level0 col4\" >RMSLE</th>        <th class=\"col_heading level0 col5\" >MAPE</th>    </tr></thead><tbody>\n",
       "                <tr>\n",
       "                        <th id=\"T_5b50e_level0_row0\" class=\"row_heading level0 row0\" >0</th>\n",
       "                        <td id=\"T_5b50e_row0_col0\" class=\"data row0 col0\" >1.0841</td>\n",
       "                        <td id=\"T_5b50e_row0_col1\" class=\"data row0 col1\" >8.4022</td>\n",
       "                        <td id=\"T_5b50e_row0_col2\" class=\"data row0 col2\" >2.8987</td>\n",
       "                        <td id=\"T_5b50e_row0_col3\" class=\"data row0 col3\" >0.3795</td>\n",
       "                        <td id=\"T_5b50e_row0_col4\" class=\"data row0 col4\" >0.6051</td>\n",
       "                        <td id=\"T_5b50e_row0_col5\" class=\"data row0 col5\" >0.7987</td>\n",
       "            </tr>\n",
       "            <tr>\n",
       "                        <th id=\"T_5b50e_level0_row1\" class=\"row_heading level0 row1\" >1</th>\n",
       "                        <td id=\"T_5b50e_row1_col0\" class=\"data row1 col0\" >1.0873</td>\n",
       "                        <td id=\"T_5b50e_row1_col1\" class=\"data row1 col1\" >7.0470</td>\n",
       "                        <td id=\"T_5b50e_row1_col2\" class=\"data row1 col2\" >2.6546</td>\n",
       "                        <td id=\"T_5b50e_row1_col3\" class=\"data row1 col3\" >0.3705</td>\n",
       "                        <td id=\"T_5b50e_row1_col4\" class=\"data row1 col4\" >0.6054</td>\n",
       "                        <td id=\"T_5b50e_row1_col5\" class=\"data row1 col5\" >0.8349</td>\n",
       "            </tr>\n",
       "            <tr>\n",
       "                        <th id=\"T_5b50e_level0_row2\" class=\"row_heading level0 row2\" >2</th>\n",
       "                        <td id=\"T_5b50e_row2_col0\" class=\"data row2 col0\" >1.0749</td>\n",
       "                        <td id=\"T_5b50e_row2_col1\" class=\"data row2 col1\" >6.9149</td>\n",
       "                        <td id=\"T_5b50e_row2_col2\" class=\"data row2 col2\" >2.6296</td>\n",
       "                        <td id=\"T_5b50e_row2_col3\" class=\"data row2 col3\" >0.3187</td>\n",
       "                        <td id=\"T_5b50e_row2_col4\" class=\"data row2 col4\" >0.6067</td>\n",
       "                        <td id=\"T_5b50e_row2_col5\" class=\"data row2 col5\" >0.8496</td>\n",
       "            </tr>\n",
       "            <tr>\n",
       "                        <th id=\"T_5b50e_level0_row3\" class=\"row_heading level0 row3\" >Mean</th>\n",
       "                        <td id=\"T_5b50e_row3_col0\" class=\"data row3 col0\" >1.0821</td>\n",
       "                        <td id=\"T_5b50e_row3_col1\" class=\"data row3 col1\" >7.4547</td>\n",
       "                        <td id=\"T_5b50e_row3_col2\" class=\"data row3 col2\" >2.7276</td>\n",
       "                        <td id=\"T_5b50e_row3_col3\" class=\"data row3 col3\" >0.3562</td>\n",
       "                        <td id=\"T_5b50e_row3_col4\" class=\"data row3 col4\" >0.6058</td>\n",
       "                        <td id=\"T_5b50e_row3_col5\" class=\"data row3 col5\" >0.8277</td>\n",
       "            </tr>\n",
       "            <tr>\n",
       "                        <th id=\"T_5b50e_level0_row4\" class=\"row_heading level0 row4\" >SD</th>\n",
       "                        <td id=\"T_5b50e_row4_col0\" class=\"data row4 col0\" >0.0053</td>\n",
       "                        <td id=\"T_5b50e_row4_col1\" class=\"data row4 col1\" >0.6721</td>\n",
       "                        <td id=\"T_5b50e_row4_col2\" class=\"data row4 col2\" >0.1214</td>\n",
       "                        <td id=\"T_5b50e_row4_col3\" class=\"data row4 col3\" >0.0268</td>\n",
       "                        <td id=\"T_5b50e_row4_col4\" class=\"data row4 col4\" >0.0007</td>\n",
       "                        <td id=\"T_5b50e_row4_col5\" class=\"data row4 col5\" >0.0214</td>\n",
       "            </tr>\n",
       "    </tbody></table>"
      ],
      "text/plain": [
       "<pandas.io.formats.style.Styler at 0x7fb12c859f10>"
      ]
     },
     "metadata": {},
     "output_type": "display_data"
    }
   ],
   "source": [
    "bagged_dt = ensemble_model(dt, n_estimators=2, optimize=\"MAE\")"
   ]
  },
  {
   "cell_type": "markdown",
   "id": "22a05bab",
   "metadata": {},
   "source": [
    "## 5.2. Boosting"
   ]
  },
  {
   "cell_type": "markdown",
   "id": "77a9ed3d",
   "metadata": {},
   "source": [
    "Another type of ensembling is \"boosting\", i.e. creating certain number of weak learners, where each following learner aims to minimize the errors of the previous one (e.g. adaboost). "
   ]
  },
  {
   "cell_type": "code",
   "execution_count": 30,
   "id": "e19eb977",
   "metadata": {},
   "outputs": [
    {
     "data": {
      "text/html": [
       "<style  type=\"text/css\" >\n",
       "#T_27ee5_row3_col0,#T_27ee5_row3_col1,#T_27ee5_row3_col2,#T_27ee5_row3_col3,#T_27ee5_row3_col4,#T_27ee5_row3_col5{\n",
       "            background:  yellow;\n",
       "        }</style><table id=\"T_27ee5_\" ><thead>    <tr>        <th class=\"blank level0\" ></th>        <th class=\"col_heading level0 col0\" >MAE</th>        <th class=\"col_heading level0 col1\" >MSE</th>        <th class=\"col_heading level0 col2\" >RMSE</th>        <th class=\"col_heading level0 col3\" >R2</th>        <th class=\"col_heading level0 col4\" >RMSLE</th>        <th class=\"col_heading level0 col5\" >MAPE</th>    </tr></thead><tbody>\n",
       "                <tr>\n",
       "                        <th id=\"T_27ee5_level0_row0\" class=\"row_heading level0 row0\" >0</th>\n",
       "                        <td id=\"T_27ee5_row0_col0\" class=\"data row0 col0\" >1.1757</td>\n",
       "                        <td id=\"T_27ee5_row0_col1\" class=\"data row0 col1\" >10.8142</td>\n",
       "                        <td id=\"T_27ee5_row0_col2\" class=\"data row0 col2\" >3.2885</td>\n",
       "                        <td id=\"T_27ee5_row0_col3\" class=\"data row0 col3\" >0.2014</td>\n",
       "                        <td id=\"T_27ee5_row0_col4\" class=\"data row0 col4\" >0.6597</td>\n",
       "                        <td id=\"T_27ee5_row0_col5\" class=\"data row0 col5\" >0.9030</td>\n",
       "            </tr>\n",
       "            <tr>\n",
       "                        <th id=\"T_27ee5_level0_row1\" class=\"row_heading level0 row1\" >1</th>\n",
       "                        <td id=\"T_27ee5_row1_col0\" class=\"data row1 col0\" >1.1802</td>\n",
       "                        <td id=\"T_27ee5_row1_col1\" class=\"data row1 col1\" >8.7957</td>\n",
       "                        <td id=\"T_27ee5_row1_col2\" class=\"data row1 col2\" >2.9657</td>\n",
       "                        <td id=\"T_27ee5_row1_col3\" class=\"data row1 col3\" >0.2143</td>\n",
       "                        <td id=\"T_27ee5_row1_col4\" class=\"data row1 col4\" >0.6641</td>\n",
       "                        <td id=\"T_27ee5_row1_col5\" class=\"data row1 col5\" >0.9547</td>\n",
       "            </tr>\n",
       "            <tr>\n",
       "                        <th id=\"T_27ee5_level0_row2\" class=\"row_heading level0 row2\" >2</th>\n",
       "                        <td id=\"T_27ee5_row2_col0\" class=\"data row2 col0\" >1.1698</td>\n",
       "                        <td id=\"T_27ee5_row2_col1\" class=\"data row2 col1\" >8.6293</td>\n",
       "                        <td id=\"T_27ee5_row2_col2\" class=\"data row2 col2\" >2.9376</td>\n",
       "                        <td id=\"T_27ee5_row2_col3\" class=\"data row2 col3\" >0.1498</td>\n",
       "                        <td id=\"T_27ee5_row2_col4\" class=\"data row2 col4\" >0.6591</td>\n",
       "                        <td id=\"T_27ee5_row2_col5\" class=\"data row2 col5\" >0.9788</td>\n",
       "            </tr>\n",
       "            <tr>\n",
       "                        <th id=\"T_27ee5_level0_row3\" class=\"row_heading level0 row3\" >Mean</th>\n",
       "                        <td id=\"T_27ee5_row3_col0\" class=\"data row3 col0\" >1.1752</td>\n",
       "                        <td id=\"T_27ee5_row3_col1\" class=\"data row3 col1\" >9.4131</td>\n",
       "                        <td id=\"T_27ee5_row3_col2\" class=\"data row3 col2\" >3.0639</td>\n",
       "                        <td id=\"T_27ee5_row3_col3\" class=\"data row3 col3\" >0.1885</td>\n",
       "                        <td id=\"T_27ee5_row3_col4\" class=\"data row3 col4\" >0.6610</td>\n",
       "                        <td id=\"T_27ee5_row3_col5\" class=\"data row3 col5\" >0.9455</td>\n",
       "            </tr>\n",
       "            <tr>\n",
       "                        <th id=\"T_27ee5_level0_row4\" class=\"row_heading level0 row4\" >SD</th>\n",
       "                        <td id=\"T_27ee5_row4_col0\" class=\"data row4 col0\" >0.0042</td>\n",
       "                        <td id=\"T_27ee5_row4_col1\" class=\"data row4 col1\" >0.9931</td>\n",
       "                        <td id=\"T_27ee5_row4_col2\" class=\"data row4 col2\" >0.1592</td>\n",
       "                        <td id=\"T_27ee5_row4_col3\" class=\"data row4 col3\" >0.0279</td>\n",
       "                        <td id=\"T_27ee5_row4_col4\" class=\"data row4 col4\" >0.0022</td>\n",
       "                        <td id=\"T_27ee5_row4_col5\" class=\"data row4 col5\" >0.0316</td>\n",
       "            </tr>\n",
       "    </tbody></table>"
      ],
      "text/plain": [
       "<pandas.io.formats.style.Styler at 0x7fb12d84b9d0>"
      ]
     },
     "metadata": {},
     "output_type": "display_data"
    }
   ],
   "source": [
    "boosted_dt = ensemble_model(dt, method = 'Boosting',  n_estimators=2, optimize=\"MAE\")"
   ]
  },
  {
   "cell_type": "markdown",
   "id": "67fb03ad",
   "metadata": {},
   "source": [
    "## 5.3 Blending"
   ]
  },
  {
   "cell_type": "markdown",
   "id": "f7521ac8",
   "metadata": {},
   "source": [
    "Blending is a simple voting of different models. Unlike bagging, here each model is trained on the same datasets and then votes for the final decision. Thus, there is no sence to blend the same algorithms, since all of them will produce same predictions."
   ]
  },
  {
   "cell_type": "code",
   "execution_count": 31,
   "id": "0046b189",
   "metadata": {},
   "outputs": [
    {
     "data": {
      "text/html": [
       "<style  type=\"text/css\" >\n",
       "#T_fa4e9_row3_col0,#T_fa4e9_row3_col1,#T_fa4e9_row3_col2,#T_fa4e9_row3_col3,#T_fa4e9_row3_col4,#T_fa4e9_row3_col5{\n",
       "            background:  yellow;\n",
       "        }</style><table id=\"T_fa4e9_\" ><thead>    <tr>        <th class=\"blank level0\" ></th>        <th class=\"col_heading level0 col0\" >MAE</th>        <th class=\"col_heading level0 col1\" >MSE</th>        <th class=\"col_heading level0 col2\" >RMSE</th>        <th class=\"col_heading level0 col3\" >R2</th>        <th class=\"col_heading level0 col4\" >RMSLE</th>        <th class=\"col_heading level0 col5\" >MAPE</th>    </tr></thead><tbody>\n",
       "                <tr>\n",
       "                        <th id=\"T_fa4e9_level0_row0\" class=\"row_heading level0 row0\" >0</th>\n",
       "                        <td id=\"T_fa4e9_row0_col0\" class=\"data row0 col0\" >1.1081</td>\n",
       "                        <td id=\"T_fa4e9_row0_col1\" class=\"data row0 col1\" >7.1772</td>\n",
       "                        <td id=\"T_fa4e9_row0_col2\" class=\"data row0 col2\" >2.6790</td>\n",
       "                        <td id=\"T_fa4e9_row0_col3\" class=\"data row0 col3\" >0.4700</td>\n",
       "                        <td id=\"T_fa4e9_row0_col4\" class=\"data row0 col4\" >0.5686</td>\n",
       "                        <td id=\"T_fa4e9_row0_col5\" class=\"data row0 col5\" >0.6344</td>\n",
       "            </tr>\n",
       "            <tr>\n",
       "                        <th id=\"T_fa4e9_level0_row1\" class=\"row_heading level0 row1\" >1</th>\n",
       "                        <td id=\"T_fa4e9_row1_col0\" class=\"data row1 col0\" >1.0680</td>\n",
       "                        <td id=\"T_fa4e9_row1_col1\" class=\"data row1 col1\" >5.1531</td>\n",
       "                        <td id=\"T_fa4e9_row1_col2\" class=\"data row1 col2\" >2.2700</td>\n",
       "                        <td id=\"T_fa4e9_row1_col3\" class=\"data row1 col3\" >0.5397</td>\n",
       "                        <td id=\"T_fa4e9_row1_col4\" class=\"data row1 col4\" >0.5708</td>\n",
       "                        <td id=\"T_fa4e9_row1_col5\" class=\"data row1 col5\" >0.6466</td>\n",
       "            </tr>\n",
       "            <tr>\n",
       "                        <th id=\"T_fa4e9_level0_row2\" class=\"row_heading level0 row2\" >2</th>\n",
       "                        <td id=\"T_fa4e9_row2_col0\" class=\"data row2 col0\" >1.0508</td>\n",
       "                        <td id=\"T_fa4e9_row2_col1\" class=\"data row2 col1\" >5.0666</td>\n",
       "                        <td id=\"T_fa4e9_row2_col2\" class=\"data row2 col2\" >2.2509</td>\n",
       "                        <td id=\"T_fa4e9_row2_col3\" class=\"data row2 col3\" >0.5008</td>\n",
       "                        <td id=\"T_fa4e9_row2_col4\" class=\"data row2 col4\" >0.5704</td>\n",
       "                        <td id=\"T_fa4e9_row2_col5\" class=\"data row2 col5\" >0.6617</td>\n",
       "            </tr>\n",
       "            <tr>\n",
       "                        <th id=\"T_fa4e9_level0_row3\" class=\"row_heading level0 row3\" >Mean</th>\n",
       "                        <td id=\"T_fa4e9_row3_col0\" class=\"data row3 col0\" >1.0757</td>\n",
       "                        <td id=\"T_fa4e9_row3_col1\" class=\"data row3 col1\" >5.7989</td>\n",
       "                        <td id=\"T_fa4e9_row3_col2\" class=\"data row3 col2\" >2.4000</td>\n",
       "                        <td id=\"T_fa4e9_row3_col3\" class=\"data row3 col3\" >0.5035</td>\n",
       "                        <td id=\"T_fa4e9_row3_col4\" class=\"data row3 col4\" >0.5699</td>\n",
       "                        <td id=\"T_fa4e9_row3_col5\" class=\"data row3 col5\" >0.6475</td>\n",
       "            </tr>\n",
       "            <tr>\n",
       "                        <th id=\"T_fa4e9_level0_row4\" class=\"row_heading level0 row4\" >SD</th>\n",
       "                        <td id=\"T_fa4e9_row4_col0\" class=\"data row4 col0\" >0.0240</td>\n",
       "                        <td id=\"T_fa4e9_row4_col1\" class=\"data row4 col1\" >0.9752</td>\n",
       "                        <td id=\"T_fa4e9_row4_col2\" class=\"data row4 col2\" >0.1975</td>\n",
       "                        <td id=\"T_fa4e9_row4_col3\" class=\"data row4 col3\" >0.0285</td>\n",
       "                        <td id=\"T_fa4e9_row4_col4\" class=\"data row4 col4\" >0.0010</td>\n",
       "                        <td id=\"T_fa4e9_row4_col5\" class=\"data row4 col5\" >0.0112</td>\n",
       "            </tr>\n",
       "    </tbody></table>"
      ],
      "text/plain": [
       "<pandas.io.formats.style.Styler at 0x7fb11c35f0d0>"
      ]
     },
     "metadata": {},
     "output_type": "display_data"
    }
   ],
   "source": [
    "blender = blend_models(estimator_list=[dt, lgbm], optimize=\"MAE\")"
   ]
  },
  {
   "cell_type": "markdown",
   "id": "b183db17",
   "metadata": {},
   "source": [
    "# 6.Plots"
   ]
  },
  {
   "cell_type": "markdown",
   "id": "0d51458c",
   "metadata": {},
   "source": [
    "So, after all experiments we discovered that auto tuned lightgbm has the best MAPE score. \n",
    "Now, we can build take a closer  look at this model with `plot_model()` function."
   ]
  },
  {
   "cell_type": "code",
   "execution_count": 32,
   "id": "212afae7",
   "metadata": {},
   "outputs": [
    {
     "data": {
      "image/png": "[encoded data removed]",
      "text/plain": [
       "<Figure size 800x500 with 1 Axes>"
      ]
     },
     "metadata": {},
     "output_type": "display_data"
    }
   ],
   "source": [
    "plot_model(lgbm_autotuned, plot=\"feature\")"
   ]
  },
  {
   "cell_type": "code",
   "execution_count": 33,
   "id": "f4a27429",
   "metadata": {},
   "outputs": [
    {
     "data": {
      "image/png": "[encoded data removed]",
      "text/plain": [
       "<Figure size 576x396 with 2 Axes>"
      ]
     },
     "metadata": {},
     "output_type": "display_data"
    }
   ],
   "source": [
    "plot_model(lgbm_autotuned)"
   ]
  },
  {
   "cell_type": "code",
   "execution_count": 34,
   "id": "09effcdf",
   "metadata": {},
   "outputs": [
    {
     "data": {
      "image/png": "[encoded data removed]",
      "text/plain": [
       "<Figure size 576x396 with 1 Axes>"
      ]
     },
     "metadata": {},
     "output_type": "display_data"
    }
   ],
   "source": [
    "plot_model(lgbm_autotuned, plot = 'error')"
   ]
  },
  {
   "cell_type": "markdown",
   "id": "ed052bab",
   "metadata": {},
   "source": [
    "# 7. Model Inerpretation"
   ]
  },
  {
   "cell_type": "markdown",
   "id": "a0a078ec",
   "metadata": {},
   "source": [
    "`interpret_model()` function uses SHAP values to help us identify how different values of our features effect the predictions. For example, on this plot we see, that low sale price makes model to predict larger demand."
   ]
  },
  {
   "cell_type": "code",
   "execution_count": 19,
   "id": "90f3dc3a",
   "metadata": {},
   "outputs": [
    {
     "data": {
      "image/png": "[encoded data removed]",
      "text/plain": [
       "<Figure size 576x684 with 2 Axes>"
      ]
     },
     "metadata": {},
     "output_type": "display_data"
    }
   ],
   "source": [
    "interpret_model(lgbm_autotuned)"
   ]
  },
  {
   "cell_type": "markdown",
   "id": "1c23379c",
   "metadata": {},
   "source": [
    "# 8. AutoML \n",
    "\n",
    "`automl()` function iterates over internal environmental variable containing all models created and chooses the best one with respect to specified metric."
   ]
  },
  {
   "cell_type": "code",
   "execution_count": 35,
   "id": "0ecd14ed",
   "metadata": {},
   "outputs": [
    {
     "data": {
      "text/plain": [
       "VotingRegressor(estimators=[('dt',\n",
       "                             DecisionTreeRegressor(ccp_alpha=0.0,\n",
       "                                                   criterion='mse',\n",
       "                                                   max_depth=None,\n",
       "                                                   max_features=None,\n",
       "                                                   max_leaf_nodes=None,\n",
       "                                                   min_impurity_decrease=0.0,\n",
       "                                                   min_impurity_split=None,\n",
       "                                                   min_samples_leaf=1,\n",
       "                                                   min_samples_split=2,\n",
       "                                                   min_weight_fraction_leaf=0.0,\n",
       "                                                   presort='deprecated',\n",
       "                                                   random_state=123,\n",
       "                                                   splitter='best')),\n",
       "                            ('lightgbm',\n",
       "                             LGBMRegressor(boosting_ty...\n",
       "                                           class_weight=None,\n",
       "                                           colsample_bytree=1.0,\n",
       "                                           importance_type='split',\n",
       "                                           learning_rate=0.1, max_depth=-1,\n",
       "                                           min_child_samples=20,\n",
       "                                           min_child_weight=0.001,\n",
       "                                           min_split_gain=0.0, n_estimators=100,\n",
       "                                           n_jobs=-1, num_leaves=31,\n",
       "                                           objective=None, random_state=123,\n",
       "                                           reg_alpha=0.0, reg_lambda=0.0,\n",
       "                                           silent=True, subsample=1.0,\n",
       "                                           subsample_for_bin=200000,\n",
       "                                           subsample_freq=0))],\n",
       "                n_jobs=-1, verbose=False, weights=None)"
      ]
     },
     "execution_count": 35,
     "metadata": {},
     "output_type": "execute_result"
    }
   ],
   "source": [
    "best = automl(optimize = 'MAE')\n",
    "best"
   ]
  },
  {
   "cell_type": "markdown",
   "id": "356ae81e",
   "metadata": {},
   "source": [
    "# 9. Predictions\n",
    "\n",
    "Now, we can make predictions on the test data. This function returns dataframe with predictions (`Label` column) and metrics of the model on test dataset."
   ]
  },
  {
   "cell_type": "code",
   "execution_count": 36,
   "id": "2495e28d",
   "metadata": {},
   "outputs": [
    {
     "data": {
      "text/html": [
       "<style  type=\"text/css\" >\n",
       "</style><table id=\"T_bc3ad_\" ><thead>    <tr>        <th class=\"blank level0\" ></th>        <th class=\"col_heading level0 col0\" >Model</th>        <th class=\"col_heading level0 col1\" >MAE</th>        <th class=\"col_heading level0 col2\" >MSE</th>        <th class=\"col_heading level0 col3\" >RMSE</th>        <th class=\"col_heading level0 col4\" >R2</th>        <th class=\"col_heading level0 col5\" >RMSLE</th>        <th class=\"col_heading level0 col6\" >MAPE</th>    </tr></thead><tbody>\n",
       "                <tr>\n",
       "                        <th id=\"T_bc3ad_level0_row0\" class=\"row_heading level0 row0\" >0</th>\n",
       "                        <td id=\"T_bc3ad_row0_col0\" class=\"data row0 col0\" >Light Gradient Boosting Machine</td>\n",
       "                        <td id=\"T_bc3ad_row0_col1\" class=\"data row0 col1\" >1.2304</td>\n",
       "                        <td id=\"T_bc3ad_row0_col2\" class=\"data row0 col2\" >6.9869</td>\n",
       "                        <td id=\"T_bc3ad_row0_col3\" class=\"data row0 col3\" >2.6433</td>\n",
       "                        <td id=\"T_bc3ad_row0_col4\" class=\"data row0 col4\" >0.4097</td>\n",
       "                        <td id=\"T_bc3ad_row0_col5\" class=\"data row0 col5\" >0.6243</td>\n",
       "                        <td id=\"T_bc3ad_row0_col6\" class=\"data row0 col6\" >0.5786</td>\n",
       "            </tr>\n",
       "    </tbody></table>"
      ],
      "text/plain": [
       "<pandas.io.formats.style.Styler at 0x7fb11c346310>"
      ]
     },
     "metadata": {},
     "output_type": "display_data"
    },
    {
     "data": {
      "text/html": [
       "<div>\n",
       "<style scoped>\n",
       "    .dataframe tbody tr th:only-of-type {\n",
       "        vertical-align: middle;\n",
       "    }\n",
       "\n",
       "    .dataframe tbody tr th {\n",
       "        vertical-align: top;\n",
       "    }\n",
       "\n",
       "    .dataframe thead th {\n",
       "        text-align: right;\n",
       "    }\n",
       "</style>\n",
       "<table border=\"1\" class=\"dataframe\">\n",
       "  <thead>\n",
       "    <tr style=\"text-align: right;\">\n",
       "      <th></th>\n",
       "      <th>item_id</th>\n",
       "      <th>wm_yr_wk</th>\n",
       "      <th>wday</th>\n",
       "      <th>month</th>\n",
       "      <th>year</th>\n",
       "      <th>snap_CA</th>\n",
       "      <th>snap_TX</th>\n",
       "      <th>snap_WI</th>\n",
       "      <th>sell_price</th>\n",
       "      <th>dept_id_FOODS_1</th>\n",
       "      <th>...</th>\n",
       "      <th>date_weekday_1</th>\n",
       "      <th>date_weekday_2</th>\n",
       "      <th>date_weekday_3</th>\n",
       "      <th>date_weekday_4</th>\n",
       "      <th>date_weekday_5</th>\n",
       "      <th>date_weekday_6</th>\n",
       "      <th>date_is_month_end_0</th>\n",
       "      <th>date_is_month_start_0</th>\n",
       "      <th>demand</th>\n",
       "      <th>Label</th>\n",
       "    </tr>\n",
       "  </thead>\n",
       "  <tbody>\n",
       "    <tr>\n",
       "      <th>0</th>\n",
       "      <td>1038.0</td>\n",
       "      <td>1.286538</td>\n",
       "      <td>1.000002</td>\n",
       "      <td>0.0</td>\n",
       "      <td>0.0</td>\n",
       "      <td>-0.866027</td>\n",
       "      <td>-0.866027</td>\n",
       "      <td>-0.953464</td>\n",
       "      <td>-0.131334</td>\n",
       "      <td>0.0</td>\n",
       "      <td>...</td>\n",
       "      <td>0.0</td>\n",
       "      <td>0.0</td>\n",
       "      <td>1.0</td>\n",
       "      <td>0.0</td>\n",
       "      <td>0.0</td>\n",
       "      <td>0.0</td>\n",
       "      <td>1.0</td>\n",
       "      <td>1.0</td>\n",
       "      <td>0</td>\n",
       "      <td>0.402150</td>\n",
       "    </tr>\n",
       "    <tr>\n",
       "      <th>1</th>\n",
       "      <td>9.0</td>\n",
       "      <td>1.286538</td>\n",
       "      <td>1.500002</td>\n",
       "      <td>0.0</td>\n",
       "      <td>0.0</td>\n",
       "      <td>-0.866027</td>\n",
       "      <td>-0.866027</td>\n",
       "      <td>-0.953464</td>\n",
       "      <td>1.588557</td>\n",
       "      <td>0.0</td>\n",
       "      <td>...</td>\n",
       "      <td>0.0</td>\n",
       "      <td>0.0</td>\n",
       "      <td>0.0</td>\n",
       "      <td>1.0</td>\n",
       "      <td>0.0</td>\n",
       "      <td>0.0</td>\n",
       "      <td>1.0</td>\n",
       "      <td>1.0</td>\n",
       "      <td>0</td>\n",
       "      <td>0.400771</td>\n",
       "    </tr>\n",
       "    <tr>\n",
       "      <th>2</th>\n",
       "      <td>11.0</td>\n",
       "      <td>1.286538</td>\n",
       "      <td>1.500002</td>\n",
       "      <td>0.0</td>\n",
       "      <td>0.0</td>\n",
       "      <td>-0.866027</td>\n",
       "      <td>-0.866027</td>\n",
       "      <td>-0.953464</td>\n",
       "      <td>-0.988460</td>\n",
       "      <td>0.0</td>\n",
       "      <td>...</td>\n",
       "      <td>0.0</td>\n",
       "      <td>0.0</td>\n",
       "      <td>0.0</td>\n",
       "      <td>1.0</td>\n",
       "      <td>0.0</td>\n",
       "      <td>0.0</td>\n",
       "      <td>1.0</td>\n",
       "      <td>1.0</td>\n",
       "      <td>5</td>\n",
       "      <td>3.562166</td>\n",
       "    </tr>\n",
       "    <tr>\n",
       "      <th>3</th>\n",
       "      <td>10.0</td>\n",
       "      <td>1.286538</td>\n",
       "      <td>1.500002</td>\n",
       "      <td>0.0</td>\n",
       "      <td>0.0</td>\n",
       "      <td>-0.866027</td>\n",
       "      <td>-0.866027</td>\n",
       "      <td>-0.953464</td>\n",
       "      <td>-0.413283</td>\n",
       "      <td>0.0</td>\n",
       "      <td>...</td>\n",
       "      <td>0.0</td>\n",
       "      <td>0.0</td>\n",
       "      <td>0.0</td>\n",
       "      <td>1.0</td>\n",
       "      <td>0.0</td>\n",
       "      <td>0.0</td>\n",
       "      <td>1.0</td>\n",
       "      <td>1.0</td>\n",
       "      <td>1</td>\n",
       "      <td>0.825241</td>\n",
       "    </tr>\n",
       "    <tr>\n",
       "      <th>4</th>\n",
       "      <td>8.0</td>\n",
       "      <td>1.286538</td>\n",
       "      <td>1.500002</td>\n",
       "      <td>0.0</td>\n",
       "      <td>0.0</td>\n",
       "      <td>-0.866027</td>\n",
       "      <td>-0.866027</td>\n",
       "      <td>-0.953464</td>\n",
       "      <td>1.024658</td>\n",
       "      <td>0.0</td>\n",
       "      <td>...</td>\n",
       "      <td>0.0</td>\n",
       "      <td>0.0</td>\n",
       "      <td>0.0</td>\n",
       "      <td>1.0</td>\n",
       "      <td>0.0</td>\n",
       "      <td>0.0</td>\n",
       "      <td>1.0</td>\n",
       "      <td>1.0</td>\n",
       "      <td>0</td>\n",
       "      <td>0.640738</td>\n",
       "    </tr>\n",
       "  </tbody>\n",
       "</table>\n",
       "<p>5 rows × 47 columns</p>\n",
       "</div>"
      ],
      "text/plain": [
       "   item_id  wm_yr_wk      wday  month  year   snap_CA   snap_TX   snap_WI  \\\n",
       "0   1038.0  1.286538  1.000002    0.0   0.0 -0.866027 -0.866027 -0.953464   \n",
       "1      9.0  1.286538  1.500002    0.0   0.0 -0.866027 -0.866027 -0.953464   \n",
       "2     11.0  1.286538  1.500002    0.0   0.0 -0.866027 -0.866027 -0.953464   \n",
       "3     10.0  1.286538  1.500002    0.0   0.0 -0.866027 -0.866027 -0.953464   \n",
       "4      8.0  1.286538  1.500002    0.0   0.0 -0.866027 -0.866027 -0.953464   \n",
       "\n",
       "   sell_price  dept_id_FOODS_1  ...  date_weekday_1  date_weekday_2  \\\n",
       "0   -0.131334              0.0  ...             0.0             0.0   \n",
       "1    1.588557              0.0  ...             0.0             0.0   \n",
       "2   -0.988460              0.0  ...             0.0             0.0   \n",
       "3   -0.413283              0.0  ...             0.0             0.0   \n",
       "4    1.024658              0.0  ...             0.0             0.0   \n",
       "\n",
       "   date_weekday_3  date_weekday_4  date_weekday_5  date_weekday_6  \\\n",
       "0             1.0             0.0             0.0             0.0   \n",
       "1             0.0             1.0             0.0             0.0   \n",
       "2             0.0             1.0             0.0             0.0   \n",
       "3             0.0             1.0             0.0             0.0   \n",
       "4             0.0             1.0             0.0             0.0   \n",
       "\n",
       "   date_is_month_end_0  date_is_month_start_0  demand     Label  \n",
       "0                  1.0                    1.0       0  0.402150  \n",
       "1                  1.0                    1.0       0  0.400771  \n",
       "2                  1.0                    1.0       5  3.562166  \n",
       "3                  1.0                    1.0       1  0.825241  \n",
       "4                  1.0                    1.0       0  0.640738  \n",
       "\n",
       "[5 rows x 47 columns]"
      ]
     },
     "execution_count": 36,
     "metadata": {},
     "output_type": "execute_result"
    }
   ],
   "source": [
    "pred_holdouts = predict_model(lgbm)\n",
    "pred_holdouts.head()"
   ]
  },
  {
   "cell_type": "code",
   "execution_count": 37,
   "id": "587dd364",
   "metadata": {},
   "outputs": [],
   "source": [
    "def plot(df, predict_df):\n",
    "    \n",
    "    train, new = train_test_split(df, test_size=0.3, train_size=0.7, shuffle=False)\n",
    "    train = train \\\n",
    "        .loc[(train['store_id'] == 'CA_3') \n",
    "             & (train['item_id'].isin(['HOUSEHOLD_1_383', 'HOUSEHOLD_1_366', 'HOUSEHOLD_1_349'])),\n",
    "             ['date', 'item_id','demand']]\n",
    "\n",
    "    predict_df.drop(predict_df.tail(1).index,inplace=True)\n",
    "    new[\"demand\"] = predict_df[\"Label\"].values\n",
    "    new = new \\\n",
    "        .loc[(new['store_id'] == 'CA_3') & \n",
    "             (new['item_id'].isin(['HOUSEHOLD_1_383', 'HOUSEHOLD_1_366', 'HOUSEHOLD_1_349'])), \n",
    "             ['date', 'item_id','demand']]\n",
    "    train[\"Type\"] = \"historical\"\n",
    "    new[\"Type\"] = \"predicted\"\n",
    "    res = pd.concat([train,new])\n",
    "    \n",
    "    chart = alt.Chart(res).mark_line().encode(\n",
    "        x=alt.X('date:T', title='Date'),\n",
    "        y=alt.Y('demand:Q', title='Demand'),\n",
    "        color=alt.Color('item_id', title='Item ID'),\n",
    "        strokeDash='Type:N'\n",
    "    ).properties(\n",
    "        width=700\n",
    "    )\n",
    "    \n",
    "    return chart"
   ]
  },
  {
   "cell_type": "code",
   "execution_count": 38,
   "id": "a4abee8d",
   "metadata": {},
   "outputs": [
    {
     "data": {
      "text/html": [
       "\n",
       "<div id=\"altair-chart-b06ed132d0674b10897730fa1303c82a\"></div>\n",
       "<script type=\"text/javascript\">\n",
       "  (function(spec, embedOpt) {\n",
       "    const outputDiv = document.getElementById(\"altair-chart-b06ed132d0674b10897730fa1303c82a\");\n",
       "    const urls = {\n",
       "      \"vega\": \"http://localhost:21902/scripts/vega.js\",\n",
       "      \"vega-lite\": \"http://localhost:21902/scripts/vega-lite.js\",\n",
       "      \"vega-embed\": \"http://localhost:21902/scripts/vega-embed.js\",\n",
       "    };\n",
       "    function loadScript(lib) {\n",
       "      return new Promise(function(resolve, reject) {\n",
       "        var s = document.createElement('script');\n",
       "        s.src = urls[lib];\n",
       "        s.async = true;\n",
       "        s.onload = () => resolve(urls[lib]);\n",
       "        s.onerror = () => reject(`Error loading script: ${urls[lib]}`);\n",
       "        document.getElementsByTagName(\"head\")[0].appendChild(s);\n",
       "      });\n",
       "    }\n",
       "    function showError(err) {\n",
       "      outputDiv.innerHTML = `<div class=\"error\" style=\"color:red;\">${err}</div>`;\n",
       "      throw err;\n",
       "    }\n",
       "    function displayChart(vegaEmbed) {\n",
       "      vegaEmbed(outputDiv, spec, embedOpt)\n",
       "        .catch(err => showError(`Javascript Error: ${err.message}<br>This usually means there's a typo in your chart specification. See the javascript console for the full traceback.`));\n",
       "    }\n",
       "\n",
       "    if(typeof define === \"function\" && define.amd) {\n",
       "        // requirejs paths need '.js' extension stripped.\n",
       "        const paths = Object.keys(urls).reduce(function(paths, package) {\n",
       "            paths[package] = urls[package].replace(/\\.js$/, \"\");\n",
       "            return paths\n",
       "        }, {})\n",
       "        requirejs.config({paths});\n",
       "        require([\"vega-embed\"], displayChart, err => showError(`Error loading script: ${err.message}`));\n",
       "    } else if (typeof vegaEmbed === \"function\") {\n",
       "        displayChart(vegaEmbed);\n",
       "    } else {\n",
       "        loadScript(\"vega\")\n",
       "            .then(() => loadScript(\"vega-lite\"))\n",
       "            .then(() => loadScript(\"vega-embed\"))\n",
       "            .catch(showError)\n",
       "            .then(() => displayChart(vegaEmbed));\n",
       "    }\n",
       "  })({\"config\": {\"view\": {\"continuousWidth\": 400, \"continuousHeight\": 300}}, \"data\": {\"name\": \"data-41d89af872c21ae9c4aeca504fad8d9c\"}, \"mark\": \"line\", \"encoding\": {\"color\": {\"type\": \"nominal\", \"field\": \"item_id\", \"title\": \"Item ID\"}, \"strokeDash\": {\"type\": \"nominal\", \"field\": \"Type\"}, \"x\": {\"type\": \"temporal\", \"field\": \"date\", \"title\": \"Date\"}, \"y\": {\"type\": \"quantitative\", \"field\": \"demand\", \"title\": \"Demand\"}}, \"width\": 700, \"$schema\": \"https://vega.github.io/schema/vega-lite/v4.8.1.json\", \"datasets\": {\"data-41d89af872c21ae9c4aeca504fad8d9c\": [{\"date\": \"2015-01-02T00:00:00\", \"item_id\": \"HOUSEHOLD_1_366\", \"demand\": 1.0, \"Type\": \"historical\"}, {\"date\": \"2015-01-02T00:00:00\", \"item_id\": \"HOUSEHOLD_1_349\", \"demand\": 9.0, \"Type\": \"historical\"}, {\"date\": \"2015-01-02T00:00:00\", \"item_id\": \"HOUSEHOLD_1_383\", \"demand\": 4.0, \"Type\": \"historical\"}, {\"date\": \"2015-01-03T00:00:00\", \"item_id\": \"HOUSEHOLD_1_366\", \"demand\": 5.0, \"Type\": \"historical\"}, {\"date\": \"2015-01-03T00:00:00\", \"item_id\": \"HOUSEHOLD_1_349\", \"demand\": 11.0, \"Type\": \"historical\"}, {\"date\": \"2015-01-03T00:00:00\", \"item_id\": \"HOUSEHOLD_1_383\", \"demand\": 2.0, \"Type\": \"historical\"}, {\"date\": \"2015-01-04T00:00:00\", \"item_id\": \"HOUSEHOLD_1_366\", \"demand\": 9.0, \"Type\": \"historical\"}, {\"date\": \"2015-01-04T00:00:00\", \"item_id\": \"HOUSEHOLD_1_349\", \"demand\": 8.0, \"Type\": \"historical\"}, {\"date\": \"2015-01-04T00:00:00\", \"item_id\": \"HOUSEHOLD_1_383\", \"demand\": 4.0, \"Type\": \"historical\"}, {\"date\": \"2015-01-05T00:00:00\", \"item_id\": \"HOUSEHOLD_1_366\", \"demand\": 7.0, \"Type\": \"historical\"}, {\"date\": \"2015-01-05T00:00:00\", \"item_id\": \"HOUSEHOLD_1_349\", \"demand\": 4.0, \"Type\": \"historical\"}, {\"date\": \"2015-01-05T00:00:00\", \"item_id\": \"HOUSEHOLD_1_383\", \"demand\": 1.0, \"Type\": \"historical\"}, {\"date\": \"2015-01-06T00:00:00\", \"item_id\": \"HOUSEHOLD_1_366\", \"demand\": 2.0, \"Type\": \"historical\"}, {\"date\": \"2015-01-06T00:00:00\", \"item_id\": \"HOUSEHOLD_1_349\", \"demand\": 4.0, \"Type\": \"historical\"}, {\"date\": \"2015-01-06T00:00:00\", \"item_id\": \"HOUSEHOLD_1_383\", \"demand\": 2.0, \"Type\": \"historical\"}, {\"date\": \"2015-01-07T00:00:00\", \"item_id\": \"HOUSEHOLD_1_366\", \"demand\": 3.0, \"Type\": \"historical\"}, {\"date\": \"2015-01-07T00:00:00\", \"item_id\": \"HOUSEHOLD_1_349\", \"demand\": 4.0, \"Type\": \"historical\"}, {\"date\": \"2015-01-07T00:00:00\", \"item_id\": \"HOUSEHOLD_1_383\", \"demand\": 1.0, \"Type\": \"historical\"}, {\"date\": \"2015-01-08T00:00:00\", \"item_id\": \"HOUSEHOLD_1_366\", \"demand\": 3.0, \"Type\": \"historical\"}, {\"date\": \"2015-01-08T00:00:00\", \"item_id\": \"HOUSEHOLD_1_349\", \"demand\": 12.0, \"Type\": \"historical\"}, {\"date\": \"2015-01-08T00:00:00\", \"item_id\": \"HOUSEHOLD_1_383\", \"demand\": 1.0, \"Type\": \"historical\"}, {\"date\": \"2015-01-09T00:00:00\", \"item_id\": \"HOUSEHOLD_1_366\", \"demand\": 1.0, \"Type\": \"historical\"}, {\"date\": \"2015-01-09T00:00:00\", \"item_id\": \"HOUSEHOLD_1_349\", \"demand\": 0.0, \"Type\": \"historical\"}, {\"date\": \"2015-01-09T00:00:00\", \"item_id\": \"HOUSEHOLD_1_383\", \"demand\": 5.0, \"Type\": \"historical\"}, {\"date\": \"2015-01-10T00:00:00\", \"item_id\": \"HOUSEHOLD_1_366\", \"demand\": 5.0, \"Type\": \"historical\"}, {\"date\": \"2015-01-10T00:00:00\", \"item_id\": \"HOUSEHOLD_1_349\", \"demand\": 9.0, \"Type\": \"historical\"}, {\"date\": \"2015-01-10T00:00:00\", \"item_id\": \"HOUSEHOLD_1_383\", \"demand\": 1.0, \"Type\": \"historical\"}, {\"date\": \"2015-01-11T00:00:00\", \"item_id\": \"HOUSEHOLD_1_366\", \"demand\": 5.0, \"Type\": \"historical\"}, {\"date\": \"2015-01-11T00:00:00\", \"item_id\": \"HOUSEHOLD_1_349\", \"demand\": 10.0, \"Type\": \"historical\"}, {\"date\": \"2015-01-11T00:00:00\", \"item_id\": \"HOUSEHOLD_1_383\", \"demand\": 4.0, \"Type\": \"historical\"}, {\"date\": \"2015-01-12T00:00:00\", \"item_id\": \"HOUSEHOLD_1_366\", \"demand\": 4.0, \"Type\": \"historical\"}, {\"date\": \"2015-01-12T00:00:00\", \"item_id\": \"HOUSEHOLD_1_349\", \"demand\": 14.0, \"Type\": \"historical\"}, {\"date\": \"2015-01-12T00:00:00\", \"item_id\": \"HOUSEHOLD_1_383\", \"demand\": 2.0, \"Type\": \"historical\"}, {\"date\": \"2015-01-13T00:00:00\", \"item_id\": \"HOUSEHOLD_1_366\", \"demand\": 7.0, \"Type\": \"historical\"}, {\"date\": \"2015-01-13T00:00:00\", \"item_id\": \"HOUSEHOLD_1_349\", \"demand\": 7.0, \"Type\": \"historical\"}, {\"date\": \"2015-01-13T00:00:00\", \"item_id\": \"HOUSEHOLD_1_383\", \"demand\": 1.0, \"Type\": \"historical\"}, {\"date\": \"2015-01-14T00:00:00\", \"item_id\": \"HOUSEHOLD_1_366\", \"demand\": 3.0, \"Type\": \"historical\"}, {\"date\": \"2015-01-14T00:00:00\", \"item_id\": \"HOUSEHOLD_1_349\", \"demand\": 5.0, \"Type\": \"historical\"}, {\"date\": \"2015-01-14T00:00:00\", \"item_id\": \"HOUSEHOLD_1_383\", \"demand\": 2.0, \"Type\": \"historical\"}, {\"date\": \"2015-01-15T00:00:00\", \"item_id\": \"HOUSEHOLD_1_366\", \"demand\": 1.0, \"Type\": \"historical\"}, {\"date\": \"2015-01-15T00:00:00\", \"item_id\": \"HOUSEHOLD_1_349\", \"demand\": 8.0, \"Type\": \"historical\"}, {\"date\": \"2015-01-15T00:00:00\", \"item_id\": \"HOUSEHOLD_1_383\", \"demand\": 3.0, \"Type\": \"historical\"}, {\"date\": \"2015-01-16T00:00:00\", \"item_id\": \"HOUSEHOLD_1_366\", \"demand\": 2.0, \"Type\": \"historical\"}, {\"date\": \"2015-01-16T00:00:00\", \"item_id\": \"HOUSEHOLD_1_349\", \"demand\": 3.0, \"Type\": \"historical\"}, {\"date\": \"2015-01-16T00:00:00\", \"item_id\": \"HOUSEHOLD_1_383\", \"demand\": 1.0, \"Type\": \"historical\"}, {\"date\": \"2015-01-17T00:00:00\", \"item_id\": \"HOUSEHOLD_1_366\", \"demand\": 7.0, \"Type\": \"historical\"}, {\"date\": \"2015-01-17T00:00:00\", \"item_id\": \"HOUSEHOLD_1_349\", \"demand\": 7.0, \"Type\": \"historical\"}, {\"date\": \"2015-01-17T00:00:00\", \"item_id\": \"HOUSEHOLD_1_383\", \"demand\": 2.0, \"Type\": \"historical\"}, {\"date\": \"2015-01-18T00:00:00\", \"item_id\": \"HOUSEHOLD_1_366\", \"demand\": 4.0, \"Type\": \"historical\"}, {\"date\": \"2015-01-18T00:00:00\", \"item_id\": \"HOUSEHOLD_1_349\", \"demand\": 2.0, \"Type\": \"historical\"}, {\"date\": \"2015-01-18T00:00:00\", \"item_id\": \"HOUSEHOLD_1_383\", \"demand\": 2.0, \"Type\": \"historical\"}, {\"date\": \"2015-01-19T00:00:00\", \"item_id\": \"HOUSEHOLD_1_366\", \"demand\": 5.0, \"Type\": \"historical\"}, {\"date\": \"2015-01-19T00:00:00\", \"item_id\": \"HOUSEHOLD_1_349\", \"demand\": 12.0, \"Type\": \"historical\"}, {\"date\": \"2015-01-19T00:00:00\", \"item_id\": \"HOUSEHOLD_1_383\", \"demand\": 4.0, \"Type\": \"historical\"}, {\"date\": \"2015-01-20T00:00:00\", \"item_id\": \"HOUSEHOLD_1_366\", \"demand\": 3.0, \"Type\": \"historical\"}, {\"date\": \"2015-01-20T00:00:00\", \"item_id\": \"HOUSEHOLD_1_349\", \"demand\": 6.0, \"Type\": \"historical\"}, {\"date\": \"2015-01-20T00:00:00\", \"item_id\": \"HOUSEHOLD_1_383\", \"demand\": 2.0, \"Type\": \"historical\"}, {\"date\": \"2015-01-21T00:00:00\", \"item_id\": \"HOUSEHOLD_1_366\", \"demand\": 7.0, \"Type\": \"historical\"}, {\"date\": \"2015-01-21T00:00:00\", \"item_id\": \"HOUSEHOLD_1_349\", \"demand\": 9.0, \"Type\": \"historical\"}, {\"date\": \"2015-01-21T00:00:00\", \"item_id\": \"HOUSEHOLD_1_383\", \"demand\": 2.0, \"Type\": \"historical\"}, {\"date\": \"2015-01-22T00:00:00\", \"item_id\": \"HOUSEHOLD_1_366\", \"demand\": 5.0, \"Type\": \"historical\"}, {\"date\": \"2015-01-22T00:00:00\", \"item_id\": \"HOUSEHOLD_1_349\", \"demand\": 3.0, \"Type\": \"historical\"}, {\"date\": \"2015-01-22T00:00:00\", \"item_id\": \"HOUSEHOLD_1_383\", \"demand\": 2.0, \"Type\": \"historical\"}, {\"date\": \"2015-01-23T00:00:00\", \"item_id\": \"HOUSEHOLD_1_366\", \"demand\": 1.2293942558314688, \"Type\": \"predicted\"}, {\"date\": \"2015-01-23T00:00:00\", \"item_id\": \"HOUSEHOLD_1_349\", \"demand\": 1.9716183636862157, \"Type\": \"predicted\"}, {\"date\": \"2015-01-23T00:00:00\", \"item_id\": \"HOUSEHOLD_1_383\", \"demand\": 2.2879808489479987, \"Type\": \"predicted\"}, {\"date\": \"2015-01-24T00:00:00\", \"item_id\": \"HOUSEHOLD_1_366\", \"demand\": 1.6359527823413231, \"Type\": \"predicted\"}, {\"date\": \"2015-01-24T00:00:00\", \"item_id\": \"HOUSEHOLD_1_349\", \"demand\": 2.456343503414451, \"Type\": \"predicted\"}, {\"date\": \"2015-01-24T00:00:00\", \"item_id\": \"HOUSEHOLD_1_383\", \"demand\": 2.9234461100988542, \"Type\": \"predicted\"}, {\"date\": \"2015-01-25T00:00:00\", \"item_id\": \"HOUSEHOLD_1_366\", \"demand\": 1.6208286722856315, \"Type\": \"predicted\"}, {\"date\": \"2015-01-25T00:00:00\", \"item_id\": \"HOUSEHOLD_1_349\", \"demand\": 2.4128544283133198, \"Type\": \"predicted\"}, {\"date\": \"2015-01-25T00:00:00\", \"item_id\": \"HOUSEHOLD_1_383\", \"demand\": 1.631526984866749, \"Type\": \"predicted\"}, {\"date\": \"2015-01-26T00:00:00\", \"item_id\": \"HOUSEHOLD_1_366\", \"demand\": 1.3978984885483696, \"Type\": \"predicted\"}, {\"date\": \"2015-01-26T00:00:00\", \"item_id\": \"HOUSEHOLD_1_349\", \"demand\": 2.180107928177128, \"Type\": \"predicted\"}, {\"date\": \"2015-01-26T00:00:00\", \"item_id\": \"HOUSEHOLD_1_383\", \"demand\": 1.4085968011294872, \"Type\": \"predicted\"}, {\"date\": \"2015-01-27T00:00:00\", \"item_id\": \"HOUSEHOLD_1_366\", \"demand\": 1.1718887640548468, \"Type\": \"predicted\"}, {\"date\": \"2015-01-27T00:00:00\", \"item_id\": \"HOUSEHOLD_1_349\", \"demand\": 1.9141128719095937, \"Type\": \"predicted\"}, {\"date\": \"2015-01-27T00:00:00\", \"item_id\": \"HOUSEHOLD_1_383\", \"demand\": 2.2304753571713762, \"Type\": \"predicted\"}, {\"date\": \"2015-01-28T00:00:00\", \"item_id\": \"HOUSEHOLD_1_366\", \"demand\": 1.164110485646661, \"Type\": \"predicted\"}, {\"date\": \"2015-01-28T00:00:00\", \"item_id\": \"HOUSEHOLD_1_349\", \"demand\": 1.906334593501408, \"Type\": \"predicted\"}, {\"date\": \"2015-01-28T00:00:00\", \"item_id\": \"HOUSEHOLD_1_383\", \"demand\": 2.21262710397141, \"Type\": \"predicted\"}, {\"date\": \"2015-01-29T00:00:00\", \"item_id\": \"HOUSEHOLD_1_366\", \"demand\": 1.1410288550013066, \"Type\": \"predicted\"}, {\"date\": \"2015-01-29T00:00:00\", \"item_id\": \"HOUSEHOLD_1_349\", \"demand\": 1.8962817631567657, \"Type\": \"predicted\"}, {\"date\": \"2015-01-29T00:00:00\", \"item_id\": \"HOUSEHOLD_1_383\", \"demand\": 1.151727167582424, \"Type\": \"predicted\"}, {\"date\": \"2015-01-30T00:00:00\", \"item_id\": \"HOUSEHOLD_1_366\", \"demand\": 1.2293942558314688, \"Type\": \"predicted\"}, {\"date\": \"2015-01-30T00:00:00\", \"item_id\": \"HOUSEHOLD_1_349\", \"demand\": 1.9716183636862157, \"Type\": \"predicted\"}, {\"date\": \"2015-01-30T00:00:00\", \"item_id\": \"HOUSEHOLD_1_383\", \"demand\": 2.2879808489479987, \"Type\": \"predicted\"}, {\"date\": \"2015-01-31T00:00:00\", \"item_id\": \"HOUSEHOLD_1_366\", \"demand\": 15.043586010060643, \"Type\": \"predicted\"}, {\"date\": \"2015-01-31T00:00:00\", \"item_id\": \"HOUSEHOLD_1_349\", \"demand\": 2.456343503414451, \"Type\": \"predicted\"}, {\"date\": \"2015-01-31T00:00:00\", \"item_id\": \"HOUSEHOLD_1_383\", \"demand\": 1.6359527823413231, \"Type\": \"predicted\"}]}}, {});\n",
       "</script>\n"
      ],
      "text/plain": [
       "<IPython.core.display.HTML object>"
      ]
     },
     "metadata": {},
     "output_type": "display_data"
    }
   ],
   "source": [
    "import altair as alt\n",
    "import altair_viewer\n",
    "from sklearn.model_selection import train_test_split\n",
    "chart = plot(sales, pred_holdouts)\n",
    "altair_viewer.display(chart, inline=True)"
   ]
  },
  {
   "cell_type": "code",
   "execution_count": null,
   "id": "762f4531",
   "metadata": {},
   "outputs": [],
   "source": []
  }
 ],
 "metadata": {
  "kernelspec": {
   "display_name": "Python 3",
   "language": "python",
   "name": "python3"
  },
  "language_info": {
   "codemirror_mode": {
    "name": "ipython",
    "version": 3
   },
   "file_extension": ".py",
   "mimetype": "text/x-python",
   "name": "python",
   "nbconvert_exporter": "python",
   "pygments_lexer": "ipython3",
   "version": "3.8.8"
  }
 },
 "nbformat": 4,
 "nbformat_minor": 5
}
